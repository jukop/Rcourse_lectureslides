{
    "cells": [
        {
            "cell_type": "markdown",
            "metadata": {},
            "source": [
                "# Ehtorakenteet\n",
                "\n",
                "Viime kerralla tehdyt funktiot suorittavat aina samat komennot riippumatta syötteestä. Entä jos funktion toiminnassa pitäisi ottaa huomioon erilaisia tapauksia, eli suorittaa tiettyjä komentoja vain joissain tilanteissa? Tätä varten ohjelmointikielissä on ehtorakenteita, eli ns. if/else-rakenteita, jotka ohjaavat ohjelman toimintaa.\n",
                "\n",
                "Tutustutaan ensin tarkemmin loogisiin operaattoreihin.\n",
                "\n",
                "## Loogiset operaattorit \n",
                "\n",
                "Tässä on lyhyt lista loogisista operaattoreista:\n",
                "\n",
                "<table class=\"tg\">\n",
                "  <tr>\n",
                "    <th class=\"tg-0pky\">Operaattori<\/th>\n",
                "    <th class=\"tg-0pky\">Kuvaus<\/th>\n",
                "  <\/tr>\n",
                "  <tr>\n",
                "    <td class=\"tg-0pky\">&lt;<\/td>\n",
                "    <td class=\"tg-0pky\">pienempi kuin<\/td>\n",
                "  <\/tr>\n",
                "  <tr>\n",
                "    <td class=\"tg-0pky\">&lt;=<br><\/td>\n",
                "    <td class=\"tg-0pky\">pienempi tai yhtä suuri kuin<br><\/td>\n",
                "  <\/tr>\n",
                "  <tr>\n",
                "    <td class=\"tg-0pky\">&gt;<br><\/td>\n",
                "    <td class=\"tg-0pky\">suurempi kuin<\/td>\n",
                "  <\/tr>\n",
                "  <tr>\n",
                "    <td class=\"tg-0pky\">&gt;=<\/td>\n",
                "    <td class=\"tg-0pky\">suurempi tai yhtä suuri kuin<\/td>\n",
                "  <\/tr>\n",
                "  <tr>\n",
                "    <td class=\"tg-0pky\">==<\/td>\n",
                "    <td class=\"tg-0pky\">yhtä kuin<\/td>\n",
                "  <\/tr>\n",
                "  <tr>\n",
                "    <td class=\"tg-0pky\">!=<\/td>\n",
                "    <td class=\"tg-0pky\">ei yhtä kuin<\/td>\n",
                "  <\/tr>\n",
                "  <tr>\n",
                "    <td class=\"tg-0pky\">!a<\/td>\n",
                "    <td class=\"tg-0pky\">ei a (negaation)<\/td>\n",
                "  <\/tr>\n",
                "  <tr>\n",
                "    <td class=\"tg-0pky\">a | b<br><\/td>\n",
                "    <td class=\"tg-0pky\">a TAI b alkioittain<\/td>\n",
                "  <\/tr>\n",
                "  <tr>\n",
                "    <td class=\"tg-0pky\">a || b<br><\/td>\n",
                "    <td class=\"tg-0pky\">a TAI b yksittäisille arvoille<\/td>\n",
                "  <\/tr>\n",
                "  <tr>\n",
                "    <td class=\"tg-0pky\">a &amp; b<\/td>\n",
                "    <td class=\"tg-0pky\">a JA b alkioittain<\/td>\n",
                "  <\/tr>\n",
                "  <tr>\n",
                "    <td class=\"tg-0pky\">a &amp;&amp; b<\/td>\n",
                "    <td class=\"tg-0pky\">a JA b yksittäisille arvoille<\/td>\n",
                "  <\/tr>\n",
                "  <tr>\n",
                "    <td class=\"tg-0lax\">a %in% b<\/td>\n",
                "    <td class=\"tg-0lax\">a kuuluu b:hen<\/td>\n",
                "  <\/tr>\n",
                "<\/table>\n",
                "\n",
                "\n",
                "Kaikki loogiset operaattorit palauttavat joko arvon TRUE tai FALSE. Vertailuoperaattorien käyttö on jo tullut tutuksi aikaisemmissa tehtävissä, mutta tutustutaan vähän tarkemmin viimeisten rivien operaattoreihin:\n",
                "\n",
                "#### Negaatio\n",
                "\n",
                "Looginen negaatio palauttaa loogisen lauseen vastakohdan, eli muuttaa arvon TRUE arvoksi FALSE ja arvon FALSE arvoksi TRUE.\n"
            ]
        },
        {
            "cell_type": "code",
            "execution_count": null,
            "metadata": {},
            "outputs": [],
            "source": [
                "10 > 12\n",
                "!(10 > 12)\n",
                "# Also works without parentheses\n",
                "!10 > 12\n",
                "\n",
                "!is.na(NA)\n"
            ]
        },
        {
            "cell_type": "markdown",
            "metadata": {},
            "source": [
                "#### Looginen TAI (disjunktio)\n",
                "\n",
                "Loogiselle TAI operaattorille annetaan kaksi loogista lausetta, ja TAI operaattori palauttaa TRUE, jos kummatkin tai jompikumpi lauseista on TRUE. R:ssä TAI merkitään pystyviivalla \"|\" tai kahdella pystyviivalla \"||\". \"|\" käy läpi vektoreita alkioittain, \"||\" operoi yksittäisiä arvoja, ja toista lausetta ei edes ajeta, jos ensimmäinen on TRUE (koska \"||\" palauttaa TRUE riippumatta toisen lauseen arvosta). Jos tämä tuntui monimutkaiselta, niin riittää muistaa, että ehtorakenteissa kannattaa käyttää muotoa \"||\".\n"
            ]
        },
        {
            "cell_type": "code",
            "execution_count": null,
            "metadata": {},
            "outputs": [],
            "source": [
                "10 > 12 || \"a\" < \"b\"\n",
                "\n",
                "2 > 1 || 4 > 2\n",
                "\n",
                "\"a\" > \"c\" || 1 > 10\n"
            ]
        },
        {
            "cell_type": "markdown",
            "metadata": {},
            "source": [
                "#### Looginen JA (konjunktio)\n",
                "\n",
                "Loogiselle JA operaattorille annetaan kaksi lausetta. JA palauttaa TRUE, jos kummatkin lauseet ovat TRUE. R:ssä JA-operaattorit ovat \"&\" ja \"&&\", jotka käyttäytyvät kuten \"|\" ja \"||\".\n"
            ]
        },
        {
            "cell_type": "code",
            "execution_count": null,
            "metadata": {},
            "outputs": [],
            "source": [
                "10 > 12 && \"a\" < \"b\"\n",
                "\n",
                "2 > 1 && 4 > 2\n",
                "\n",
                "\"a\" > \"c\" && 1 > 10\n"
            ]
        },
        {
            "cell_type": "markdown",
            "metadata": {},
            "source": [
                "#### Osajoukko\n",
                "\n",
                "%in%-operaattorilla voi tarkistaa, kuuluuko jokin arvo suurempaan joukkoon. Tämä voitaisiin toteuttaa myös usealla TAI-operaattorilla, mutta %in% on usein paljon kätevämpi.\n"
            ]
        },
        {
            "cell_type": "code",
            "execution_count": null,
            "metadata": {},
            "outputs": [],
            "source": [
                "dna_bases <- c(\"A\", \"C\", \"G\", \"T\")\n",
                "rna_bases <- c(\"A\", \"C\", \"G\", \"U\")\n",
                "\n",
                "\"T\" %in% dna_bases\n",
                "\"T\" %in% rna_bases\n",
                "# With negation\n",
                "!\"A\" %in% dna_bases\n"
            ]
        },
        {
            "cell_type": "markdown",
            "metadata": {},
            "source": [
                "#### Monimutkaisemmat lauseet\n",
                "\n",
                "Operaattoreita voidaan myös yhdistellä monimutkaisemmiksi lauseiksi. Tällöin lauseiden arviointijärjestys määritetään tarvittaessa suluilla.\n"
            ]
        },
        {
            "cell_type": "code",
            "execution_count": null,
            "metadata": {},
            "outputs": [],
            "source": [
                "dog <- list(breed = \"golden retriever\",\n",
                "            height = 45,\n",
                "            weight = 27)\n",
                "\n",
                "dog$breed == \"golden retriever\" && dog$weight < 25 || dog$height < 50\n"
            ]
        },
        {
            "cell_type": "markdown",
            "metadata": {},
            "source": [
                "#### a < x < b\n",
                "\n",
                "usein tulee vastaan tilanteita, joissa halutaan tarkistaa, onko jokin luku halutulla välillä. Tämä kirjoitetaan matemaatiisesti esim. näin: a < x < b, jossa tarkastetaan, onko x välillä ]a, b[. Tämä ei kuitenkaan valitettavasti toimi R:ssä, vaan tarkistus pitää jakaa kahteen osaan:\n"
            ]
        },
        {
            "cell_type": "code",
            "execution_count": null,
            "metadata": {},
            "outputs": [],
            "source": [
                "# Are x and y between 0 and 1?\n",
                "x <- 3\n",
                "y <- 0.3\n",
                "0 <= x && x <= 1\n",
                "0 <= y && y <= 1\n"
            ]
        },
        {
            "cell_type": "markdown",
            "metadata": {},
            "source": [
                "## Ehtorakenteet\n",
                "\n",
                "Aloitetaan esimerkistä: tehtävänä on kirjoittaa funktio, jolle annetaan syötteenä potilaan hemoglobiiniarvo. Funktion on tarkoitus hälyttää, jos hemoglobiini laskee alle viitearvojen alarajan 117. Kyseinen funktio voisi näyttää vaikka tältä:\n"
            ]
        },
        {
            "cell_type": "code",
            "execution_count": null,
            "metadata": {},
            "outputs": [],
            "source": [
                "hb_alert <- function(hb) {\n",
                "  if (hb < 117) {\n",
                "    return(\"Hemoglobin is low!\")\n",
                "  }\n",
                "}\n"
            ]
        },
        {
            "cell_type": "markdown",
            "metadata": {},
            "source": [
                "Funktiolla on siis yksi argumentti, hb eli hemoglobiiniarvo. Funktion sisällä on if-rakenne. If-rakenteessa on kaksi osaa: ehto, ja rakenteen sisäinen koodi. Rakenteen sisäinen koodi ajetaan vain, jos ehto täyttyy. Ehto merkitään if-komennon jälkeen sulkeisiin, ja rakenteen sisäinen koodi kirjoitetaan sulkeiden jälkeen hakasulkeiden sisään. (Jos hakasulkeiden sisään tulisi vain yksi rivi koodia, hakasulkeet voi jättää pois, mutta näissä esimerkeissä käytetään aina hakasulkeita).\n",
                "\n",
                "Kokeillaan, miten funktio toimii eri hemoglobiiniarvoilla:\n"
            ]
        },
        {
            "cell_type": "code",
            "execution_count": null,
            "metadata": {},
            "outputs": [],
            "source": [
                "# Nothing happens\n",
                "hb_alert(130)\n",
                "# returns alert\n",
                "hb_alert(110)\n"
            ]
        },
        {
            "cell_type": "markdown",
            "metadata": {},
            "source": [
                "Funktio siis toimii oletetusti, eli se hälyttää vain, jos hemoglobiinitaso on alle 117. Käyttäjän kannalta olisi kuitenkin kätevää saada jonkinlainen palaute myös silloin, kun hemoglobiinitaso on tarpeeksi korkea. Tätä varten voidaan käyttää else-komentoa:\n",
                "\n"
            ]
        },
        {
            "cell_type": "code",
            "execution_count": null,
            "metadata": {},
            "outputs": [],
            "source": [
                "hb_alert <- function(hb) {\n",
                "  if (hb < 117) {\n",
                "    return(\"Hemoglobin is low!\")\n",
                "  } else {\n",
                "    return(\"Hemoglobin OK\")\n",
                "  }\n",
                "}\n",
                "\n",
                "hb_alert(130)\n"
            ]
        },
        {
            "cell_type": "markdown",
            "metadata": {},
            "source": [
                "Else-komennon jälkeinen koodi siis ajetaan, jos ehto hb < 117 ei täyty.\n",
                "\n",
                "Tällä hetkellä funktiomme toimii vain naispotilaille, sillä miehillä hemoglobiiniarvojen alaraja on 134. Lisätään siis funktioomme argumentti sukupuolta varten ja muokataan sen toimintaa niin, että se osaa ottaa huomioon sukupuolen. Nyt if-rakenteen ehdosta tulee jo hieman monimutkaisempi:\n"
            ]
        },
        {
            "cell_type": "code",
            "execution_count": null,
            "metadata": {},
            "outputs": [],
            "source": [
                "hb_alert <- function(hb, sex) {\n",
                "  if (sex == \"female\" && hb < 117 || sex == \"male\" && hb < 134) {\n",
                "    return(\"Hemoglobin is low!\")\n",
                "  } else {\n",
                "    return(\"Hemoglobin OK\")\n",
                "  }\n",
                "}\n",
                "\n",
                "hb_alert(hb = 120, sex = \"female\")\n",
                "hb_alert(hb = 120, sex = \"male\")\n"
            ]
        },
        {
            "cell_type": "markdown",
            "metadata": {},
            "source": [
                "Entä jos haluaisimme tulostaa eri varoituksen mies- ja naispotilaille? Tähän tarvitaan \"else if\"-rakennetta:\n",
                "\n"
            ]
        },
        {
            "cell_type": "code",
            "execution_count": null,
            "metadata": {},
            "outputs": [],
            "source": [
                "hb_alert <- function(hb, sex) {\n",
                "  if (sex == \"female\" && hb < 117) {\n",
                "    return(\"Hemoglobin is low for a female!\")\n",
                "  } else if (sex == \"male\" && hb < 134) {\n",
                "    return(\"Hemoglobin is low for a male!\")\n",
                "  } else {\n",
                "    return(\"Hemoglobin OK\")\n",
                "  }\n",
                "}\n",
                "\n",
                "hb_alert(hb = 110, sex = \"female\")\n",
                "hb_alert(hb = 120, sex = \"male\")\n"
            ]
        },
        {
            "cell_type": "markdown",
            "metadata": {},
            "source": [
                "Nyt funktio tarkistaa ensin, onko potilas nainen ja onko hänen hemoglobiininsa alle 117. Jos ei, siirrytään eteenpäin ja tarkistetaan, onko potilas mies ja onko hänen hemoglobiininsa alle 130. Jos ei, siirrytään viimeiseen kohtaan, ja tulostetaan \"Hemoglobin ok\".\n",
                "\n",
                "Else-if rakenteita voi olla rajoittamaton määrä ensimmäisen if-rakenteen jälkeen. Lisätään funktioon hälytys kriittisestä hemoglobiinin määrästä (hb < 50) riippumatta sukupuolesta:\n"
            ]
        },
        {
            "cell_type": "code",
            "execution_count": null,
            "metadata": {},
            "outputs": [],
            "source": [
                "hb_alert <- function(hb, sex) {\n",
                "  if (sex == \"female\" && hb < 117) {\n",
                "    return(\"Hemoglobin is low for a female!\")\n",
                "  } else if (sex == \"male\" && hb < 134) {\n",
                "    return(\"Hemoglobin is low for a male!\")\n",
                "  } else if (hb < 50) {\n",
                "    return(\"Hemoglobin is critical\")\n",
                "  } else {\n",
                "    return(\"Hemoglobin OK\")\n",
                "  }\n",
                "}\n",
                "\n",
                "hb_alert(hb = 32, sex = \"female\")\n"
            ]
        },
        {
            "cell_type": "markdown",
            "metadata": {},
            "source": [
                "Kuten huomataan, yllä oleva koodi ei toimikaan, kuten piti. Näin alhaisella hemoglobiinilla pitäisi tulla varoitus kriittisestä tilasta. Koodi suoritus ei kuitenkaan ikinä etene kriittisen tilan varoitukseen asti, sillä ensimmäinen ehto täyttyy. Korjataan tilanne siirtämällä kriittisen tilan ehto ensimmäiseksi:\n",
                "\n"
            ]
        },
        {
            "cell_type": "code",
            "execution_count": null,
            "metadata": {},
            "outputs": [],
            "source": [
                "hb_alert <- function(hb, sex) {\n",
                "  if (hb < 50) {\n",
                "    return(\"Hemoglobin is critical\")\n",
                "  } else if (sex == \"male\" && hb < 134) {\n",
                "    return(\"Hemoglobin is low for a male!\")\n",
                "  } else if (sex == \"female\" && hb < 117) {\n",
                "    return(\"Hemoglobin is low for a female!\")\n",
                "  } else {\n",
                "    return(\"Hemoglobin OK\")\n",
                "  }\n",
                "}\n",
                "\n",
                "hb_alert(hb = 32, sex = \"female\")\n",
                "hb_alert(hb = 120, sex = \"female\")\n",
                "hb_alert(hb = 120, sex = \"male\")\n"
            ]
        },
        {
            "cell_type": "markdown",
            "metadata": {},
            "source": [
                "Nyt funktio toimii haluamallamme tavalla!\n",
                "\n",
                "Funktioissa voi myös olla useampi ehtorakenne. Ehtorakenteita käytetään usein tarkistamaan argumenttien arvoja. Lisätään ehtorakenteet argumenttien tarkistamiseksi:\n"
            ]
        },
        {
            "cell_type": "code",
            "execution_count": null,
            "metadata": {},
            "outputs": [],
            "source": [
                "hb_alert <- function(hb, sex) {\n",
                "  # Hemoglobin should be numeric and positive\n",
                "  if (!is.numeric(hb) || hb < 0) {\n",
                "    return(\"Hemoglobin should be numeric and positive\")\n",
                "  }\n",
                "  if (!sex %in% c(\"female\", \"male\")) {\n",
                "    return(\"This function can only deal with binary sex: female or male\")\n",
                "  }\n",
                "  \n",
                "  if (hb < 50) {\n",
                "    return(\"Hemoglobin is critical\")\n",
                "  } else if (sex == \"male\" && hb < 134) {\n",
                "    return(\"Hemoglobin is low for a male!\")\n",
                "  } else if (sex == \"female\" && hb < 117) {\n",
                "    return(\"Hemoglobin is low for a female!\")\n",
                "  } else {\n",
                "    return(\"Hemoglobin OK\")\n",
                "  }\n",
                "}\n",
                "\n",
                "hb_alert(hb = \"120\", sex = \"female\")\n",
                "hb_alert(hb = 120, sex = \"FEMALE\")\n"
            ]
        },
        {
            "cell_type": "markdown",
            "metadata": {},
            "source": [
                "## Alkioiden poimiminen vektorista tietyh ehdon perusteella\n",
                "\n",
                "Tämän viikon tehtävissä tuli ainakin allekirjoittaneelle vastaan tilanne, jossa piti käydä läpi useita arvoja vektorista, ja säilyttää niistä ne, jotka täyttivät tietyn ehdon. Tätä aihetta käsitellään enemmän ensi viikolla, mutta tässä lyhyt vinkki tällaisten tehtävien ratkaisuun:\n",
                "\n",
                "- Luo apufunktio, joka ottaa syötteeksi yhden arvon, ja tarkistaa täyttyykö ehto. Tämän funktion tulee palauttaa TRUE, jos ehto täyttyy ja FALSE, jos ehto ei täyty.\n",
                "- Käytä funktiota ```Vectorize```, jolla voit muuttaa funktiosi vektoroiduksi funktioksi. Kun vektoroidulle funktiolle annetaan vektori, jossa on monta alkiota, funktio ajetaan automaattisesti alkio kerrallaan, kuten monet R:n omat funktiot.\n",
                "- Käytä vektoroitua apufunktiota vektorin indeksointiin.\n",
                "\n",
                "Tässä on esimerkki, jossa käydään läpi vektori DNA:n emäksiä, joista poimitaan vain sytosiinit ja guaniinit.\n"
            ]
        },
        {
            "cell_type": "code",
            "execution_count": null,
            "metadata": {},
            "outputs": [],
            "source": [
                "# Helper function\n",
                "is_cg <- function(base) {\n",
                "  if (base %in% c(\"C\", \"G\")) {\n",
                "    return(TRUE)\n",
                "  } else {\n",
                "    return(FALSE)\n",
                "  }\n",
                "}\n",
                "\n",
                "# Vectorize\n",
                "is_cg_vector <- Vectorize(is_cg)\n",
                "\n",
                "# Main function\n",
                "pick_cg <- function(bases) {\n",
                "  only_cg <- bases[is_cg_vector(bases)]\n",
                "  return(only_cg)\n",
                "}\n",
                "\n",
                "# NOTE: this only checks the first value of the vector\n",
                "my_bases <- c(\"A\", \"C\", \"C\", \"T\", \"G\", \"T\")\n",
                "is_cg(my_bases)\n",
                "\n",
                "# This works as expected\n",
                "is_cg_vector(my_bases)\n",
                "\n",
                "# Pick only C and G\n",
                "pick_cg(my_bases)\n"
            ]
        },
        {
            "cell_type": "markdown",
            "metadata": {},
            "source": "\n"
        }
    ],
    "metadata": {
        "anaconda-cloud": "",
        "kernelspec": {
            "display_name": "R",
            "langauge": "R",
            "name": "ir"
        },
        "language_info": {
            "codemirror_mode": "r",
            "file_extension": ".r",
            "mimetype": "text/x-r-source",
            "name": "R",
            "pygments_lexer": "r",
            "version": "3.4.1"
        }
    },
    "nbformat": 4,
    "nbformat_minor": 1
}

{
 "cells": [
  {
   "cell_type": "markdown",
   "metadata": {},
   "source": [
    "# Uusia tietotyyppejä\n",
    "\n",
    "## Esittely\n",
    "\n",
    "Tässä osassa tutustutaan neljään uuteen tietorakenteeseen:\n",
    "\n",
    "- [matrsiisi (matrix)](#matriisi)\n",
    "- [taulukko (array)](#taulukko)\n",
    "- [lista (list)](#lista)\n",
    "- [data frame](#data-frame)\n",
    "\n",
    "Taulukko on juuri sitä miltä se kuulostaa: vektorintapainen tietorakenne, johon tallennetaan alkioita (elements), joilla on kaikilla sama luokka (class), eli esimerkiksi lukuja. Ero vektoriin on se, että taulukolla on useampi ulottuvuus. Matriisi on erikoistapaus taulukosta, sillä matriisi on kaksiulotteinen taulukko. Matriisi vastaa siis oikeastaan paremmin sitä mielikuvaa, joka monelle tulee mieleen suomen sanasta taulukko, ja matriisit ovatkin paljon yleisempiä kuin moniulotteiset taulukot.\n",
    "\n",
    "Matriisi voi olla joillekin sanana tuttu myös tilastotieteen tai matematiikan kursseilta, ja R:n matriisi vastaakin matemaattista matriisia. Tästä syystä matriisi on hyvin yleinen tietorakenne, johon ei voi olla törmäämättä jos käyttää R:ää tutkimuksessa.\n",
    "\n",
    "Lista on kokoelma alkioita, joilla voi olla eri luokkia. Data frame on matriisin kaltainen kaksiulotteinen tietorakenne, jonka sarakkeilla voi olla eri luokkia.\n",
    "\n",
    "Aloitetaan matriiseista.\n",
    "\n",
    "## Matriisi\n",
    "\n",
    "### Matriisin luominen\n",
    "\n",
    "Matriisin luominen on yksinkertaista, ja tapahtuu funktiolla ```matrix```\n"
   ]
  },
  {
   "cell_type": "code",
   "execution_count": null,
   "metadata": {},
   "outputs": [],
   "source": [
    "matrix(1:9, nrow = 3, ncol = 3)\n",
    "\n"
   ]
  },
  {
   "cell_type": "markdown",
   "metadata": {},
   "source": [
    "Funktiolle matrix annetaan siis matriisiin tallennettavat luvut vektorina, sekä matriisin rivien ja sarakkeiden määrä (```ncol``` ja ```nrow```). Matriisi voi koostua myös kokonaan tietystä arvosta:\n",
    "\n"
   ]
  },
  {
   "cell_type": "code",
   "execution_count": null,
   "metadata": {},
   "outputs": [],
   "source": [
    "matrix(0, nrow = 2, ncol = 5)\n",
    "\n"
   ]
  },
  {
   "cell_type": "markdown",
   "metadata": {},
   "source": [
    "Useimmiten matriisien data luetaan R:ään jostain tiedostosta, joka on tuotettu Excelillä tai jollain muulla ohjelmalla (tutkimustulosten kirjaus suoraan R:ään olisi raskasta). Matriisien luonti käsin on kuitenkin hyvä osata, sillä pienillä matriiseilla on kätevää testata omaa koodia. Myös yllä olevan kaltaisia, esim. nollalla täytettyjä matriiseja on joskus kätevää käyttää \"alustana\", kun lasketaan omasta datasta tuloksia rivi tai sarake kerrallaan. Tämä johtuu siitä, että olemassa olevan matriisin rivin arvojen vaihtaminen on nopeampi operaatio kuin rivin lisääminen matriisiin.\n",
    "\n",
    "### Matriisin koko\n",
    "\n",
    "Joskus voi törmätä matriiseihin, joiden koko ei tiedä, tai ei halua olettaa. Tällöin tarvitaan funktioita, jotka kertovat matriisin koosta. Esimerkiksi, kun luetaan dataa R:ään tiedostoista, on hyvä tarkistaa, että kaikki rivit ja sarakkeet ovat mukana. ```nrow``` ja ```ncol``` palauttavat rivien ja sarakkeiden määrän, ```dim``` palauttaa matriisin rivien ja sarakkeiden määrän, rivit ensin.\n"
   ]
  },
  {
   "cell_type": "code",
   "execution_count": null,
   "metadata": {},
   "outputs": [],
   "source": [
    "X <- matrix(1:12, ncol = 4)\n",
    "# Number of rows\n",
    "nrow(X)\n",
    "# Number of columns\n",
    "ncol(X)\n",
    "#Dimensions\n",
    "dim(X)\n"
   ]
  },
  {
   "cell_type": "markdown",
   "metadata": {},
   "source": [
    "### Matriisin indeksointi\n",
    "\n",
    "Matriisin indeksointi on hyvin samantapainen operaatio kuin vektorin indeksointi, eli matriisin perään laitetaan hakasulkeet ja niihin määritellään halutut arvot. Matriisin indeksoinnissa pitää kuitenkin antaa erikseen indeksit riveille ja sarakkeille, pilkulla erotettuna. \n"
   ]
  },
  {
   "cell_type": "code",
   "execution_count": null,
   "metadata": {},
   "outputs": [],
   "source": [
    "# Only nrow is enough, since the number of columns must be 3\n",
    "X <- matrix(1:9, nrow = 3)\n",
    "X\n",
    "# Element on second row, third column\n",
    "X[2, 3]\n",
    "\n",
    "# The complete first row\n",
    "X[1, ]\n",
    "\n",
    "# The second and third values of the second column\n",
    "X[2:3, 3]\n",
    "\n",
    "# Get rows where the values of the first column is > 1\n",
    "X[X[, 1] > 1, ]\n"
   ]
  },
  {
   "cell_type": "markdown",
   "metadata": {},
   "source": [
    "HUOM: jos matriisia indeksoidessa tuloksessa sarakkeiden tai rivien määrä on tasan yksi, kuten yllä olevissa esimerkeissä viimeistä lukuun ottamatta, tuloksena on vektori, ei matriisi. Jos haluaa tuloksen olevan matriisi, tulee hakasulkeisiin lisätä määre ```drop = FALSE```\n",
    "\n"
   ]
  },
  {
   "cell_type": "code",
   "execution_count": null,
   "metadata": {},
   "outputs": [],
   "source": [
    "# The complete first row\n",
    "X[1, ,drop = FALSE]\n",
    "# The second and third values of the second column\n",
    "X[2:3, 3, drop = FALSE]\n"
   ]
  },
  {
   "cell_type": "markdown",
   "metadata": {},
   "source": [
    "Matriiseja voi myös muokata sijoittamalla haluttuihin paikkoihin uusia arvoja:\n",
    "\n"
   ]
  },
  {
   "cell_type": "code",
   "execution_count": null,
   "metadata": {},
   "outputs": [],
   "source": [
    "# Copy of X\n",
    "X_new <- X\n",
    "# Replace first row with new values\n",
    "X_new[1, ] <- c(10, 13, 15)\n",
    "X_new\n",
    "# Replacement can also be a single value, and will be recycled\n",
    "X_new[2:3, 1] <- 0\n",
    "X_new\n"
   ]
  },
  {
   "cell_type": "markdown",
   "metadata": {},
   "source": [
    "Rivejä tai sarakkeita voi myös poistaa. Tämä tapahtuu antamalla indeksi miinusmerkkisenä:\n",
    "\n"
   ]
  },
  {
   "cell_type": "code",
   "execution_count": null,
   "metadata": {},
   "outputs": [],
   "source": [
    "# Without first row\n",
    "X[-1, ]\n",
    "# Without second column\n",
    "X[, -2]\n"
   ]
  },
  {
   "cell_type": "markdown",
   "metadata": {},
   "source": [
    "#### Indeksimatriisi (index matrix)\n",
    "\n",
    "Jos halutaan poimia useampi yksittäinen arvo matriisista, tulee käyttää indeksimatriisia (index matrix).\n",
    "\n",
    "Esimerkiksi, jos haluttaisiin poimia äskeisestä X-matriisista arvot [1, 2], [1, 3] ja [2,2], tämä ei toimi:\n"
   ]
  },
  {
   "cell_type": "code",
   "execution_count": null,
   "metadata": {},
   "outputs": [],
   "source": [
    "X[c(1, 1, 2), c(2, 3, 2)]\n",
    "\n"
   ]
  },
  {
   "cell_type": "markdown",
   "metadata": {},
   "source": [
    "vaan tulee käyttää indeksimatriisia, jonka jokainen rivi antaa yhden halutun alkion indeksit, ensin rivi ja sitten sarake. Indeksimatriiseja tehdessä kannattaa asettaa lisämäärä ```byrow = TRUE```, jolloin alkiot laitetaan matriisiin rivi kerrallaan, ei sarake kerrallaan niin kuin oletuksena.\n",
    "\n"
   ]
  },
  {
   "cell_type": "code",
   "execution_count": null,
   "metadata": {},
   "outputs": [],
   "source": [
    "i <- matrix(c(1, 2, 1, 3, 2, 2), nrow = 3, byrow = TRUE)\n",
    "i\n",
    "X[i]\n"
   ]
  },
  {
   "cell_type": "markdown",
   "metadata": {},
   "source": [
    "### Matriisien rakentaminen vektoreista\n",
    "\n",
    "Matriisi koostuu usein useammasta muuttujasta ja havainnoista. Yleensä jokainen rivi vastaa yhtä havaintoa, ja sarake muuttujaa. Tämän takia on hyvä tietää, miten yksittäisistä vektoreista saa koottua matriiseja. Alla olevassa esimerkissä on koottu yhteen matriisiin Star Wars-hahmojen pituuksia ja painoja. Tämä tapahtuu ```cbind``` funktiolla (column bind), joka nimensä mukaan yhdistää vektorit matriisin sarakkeiksi. ```cbind``` voi yhdistää myös valmiita matriiseja yhteen, niin että matriisit ovat \"vierekkäin\" eli yhdistetyssä matriisissa on kummankin matriisin sarakkeet (rivien määrän tulee olla sama). Vastaavasti ```rbind``` (row bind) yhdistää matriiseja \"allekkain\".\n"
   ]
  },
  {
   "cell_type": "code",
   "execution_count": null,
   "metadata": {},
   "outputs": [],
   "source": [
    "heights <- c(172, 167, 96, 202, 150, 178)\n",
    "masses <- c(77, 75, 32, 136, 49, 120)\n",
    "\n",
    "starwars <- cbind(heights, masses)\n",
    "starwars\n"
   ]
  },
  {
   "cell_type": "markdown",
   "metadata": {},
   "source": [
    "### Rivien ja sarakkeiden nimeäminen\n",
    "\n",
    "Matriisien rivit ja sarakkeet voi nimetä, ja usein tässä onkin järkeä. Yllä olevassa esimerkissä ```starwars```-matriisin sarakkeet on nimetty alkuperäisten vektorin mukaan. Alla olevassa esimerkissä on lisää tapoja nimetä rivejä ja sarakkeita\n"
   ]
  },
  {
   "cell_type": "code",
   "execution_count": null,
   "metadata": {},
   "outputs": [],
   "source": [
    "# Set column names by naming arguments while building matrix from vectors\n",
    "cbind(Height = heights, Mass = masses)\n",
    "\n",
    "# Set column and row names explicitly\n",
    "colnames(starwars) <- c(\"Height\", \"Mass\")\n",
    "rownames(starwars) <- c(\"Luke Skywalker\", \"C-3PO\", \"R2-D2\", \"Darth Vader\", \"Leia Organa\", \"Owen Lars\")\n",
    "starwars\n"
   ]
  },
  {
   "cell_type": "markdown",
   "metadata": {},
   "source": [
    "Nimettyjä matriiseja voi indeksoida myös nimien perusteella:\n",
    "\n"
   ]
  },
  {
   "cell_type": "code",
   "execution_count": null,
   "metadata": {},
   "outputs": [],
   "source": [
    "starwars[c(\"Luke Skywalker\", \"R2-D2\"), ]\n",
    "\n"
   ]
  },
  {
   "cell_type": "markdown",
   "metadata": {},
   "source": [
    "Matriisiin voi myös lisätä uusia sarakkeita ```cbind``` funktiolla. Alla lisätään matriisiin starwars uusi sarake, jossa on hahmojen BMI:\n",
    "\n"
   ]
  },
  {
   "cell_type": "code",
   "execution_count": null,
   "metadata": {},
   "outputs": [],
   "source": [
    "# Create a vector for BMI and add to matrix with cbind\n",
    "bmi <- starwars[, \"Mass\"] / (starwars[, \"Height\"] / 100)^2\n",
    "cbind(starwars, \"BMI\" = bmi)\n"
   ]
  },
  {
   "cell_type": "markdown",
   "metadata": {},
   "source": [
    "### Matriiseilla laskeminen\n",
    "\n",
    "Matriiseilla laskeminen on hyvin samankaltaista kuin vektoreilla laskeminen. Matriisin ja yksittäisen luvun välisessä operaatiossa matriisin alkiot käsitellään yksitellen. Samoin samankokoiset matriisit voi esim. lisätä yhteen, jolloin lisäys tapahtuu alkio kerrallaan.\n"
   ]
  },
  {
   "cell_type": "code",
   "execution_count": null,
   "metadata": {},
   "outputs": [],
   "source": [
    "X <- matrix(1:9, nrow = 3)\n",
    "Y <- matrix(3:11, nrow = 3, ncol = 3)\n",
    "# Element-wise multiplication\n",
    "X * 2\n",
    "# Element-wise sum\n",
    "X + Y\n"
   ]
  },
  {
   "cell_type": "markdown",
   "metadata": {},
   "source": [
    "Matriiseille on lisäksi määritelty paljon matriisien omia laskutoimituksia, niistä voi lukea lisää oppikirjasta. Matriisilaskentaa opiskelleille huomio: R:ssä oletuksena kertolasku tehdään alkioittain, matriisien kertolasku tapahtuu operaattorilla ```%*%```.\n",
    "\n",
    "## Taulukko\n",
    "\n",
    "Kuten alussa todettiin, taulukot (array) ovat hyvin harvinaisia, joten niihin ei kannata tällä kurssilla keskittyä. Niitä kuitenkin tarvitaan joidenkin tehtävien tekemiseen, joten tässä on hyvin lyhyt oppimäärä taulukoista.\n",
    "\n",
    "Taulukot ovat matriisien kaltaisia, mutta taulukossa voi olla yli kaksi ulottuvuutta. Oikeastaan matriisit ovat kaksiulotteisia taulukoita. Alla on esimerkki 3-ulotteisesta taulukosta, jota voi ajatella \"peräkkäin\" olevina matriiseina. Alla on kuva 1-ulotteisesta taulukosta eli vektorista, 2-ulotteisesta taulukosta eli matriisista ja 3-ulotteisesta taulukosta.\n",
    "\n",
    "![](array.png)\n",
    "\n",
    "Taulukkoja luodaan matriisien tapaan funktiolla ```array```. Toisin kuin matriisien tapauksessa, ```array```-funktiolle pitää kertoa rivien ja sarakkeiden määrän lisäksi ulottuvuuksien määrä. Alla oleva esimerkki luo 3-ulotteisen taulukon, jonka voi ajatella koostuvan kolmesta 4 x 2 matriisista.\n"
   ]
  },
  {
   "cell_type": "code",
   "execution_count": null,
   "metadata": {},
   "outputs": [],
   "source": [
    "my_array <- array(1:24, dim = c(4, 2, 3))\n",
    "my_array\n"
   ]
  },
  {
   "cell_type": "markdown",
   "metadata": {},
   "source": [
    "Taulukoita indeksoidaan aivan kuten matriiseja, mutta jokaiselle ulottuvuudelle on annettava oma indeksi:\n",
    "\n"
   ]
  },
  {
   "cell_type": "code",
   "execution_count": null,
   "metadata": {},
   "outputs": [],
   "source": [
    "# The first 2 rows of each \"layer\"\n",
    "my_array[1:2, , ]\n",
    "\n",
    "\n",
    "# Second column from last two layers\n",
    "my_array[, 2, 2:3]\n"
   ]
  },
  {
   "cell_type": "markdown",
   "metadata": {},
   "source": [
    "## Lista\n",
    "\n",
    "Lista (list) on vektorinkaltainen tietorakenne, jossa on järjestyksessä alkioita, jotka on mahdollisesti nimetty. Tärkeä ero vektoriin verrattuna on, että listan alkiot voivat olla erityyppisiä. Listoja luodaan ```list```-funktiolla:\n"
   ]
  },
  {
   "cell_type": "code",
   "execution_count": null,
   "metadata": {},
   "outputs": [],
   "source": [
    "example_list <- list(c(1, 2, 3),\n",
    "                     matrix(0, nrow = 3, ncol = 4),\n",
    "                     \"list can include anything\")\n",
    "example_list\n",
    "\n",
    "subject_ids <- c(\"ANKL\", \"PEPA\", \"DIPR\")\n",
    "measurements <- matrix(c(1, 2.5, 3,\n",
    "                         3.5, 5, 3,\n",
    "                         2.3, 3, 1.6),\n",
    "                       nrow = 3)\n",
    "colnames(measurements) <- c(\"CRP\", \"HDL\", \"LDL\")\n",
    "rownames(measurements) <- subject_ids\n",
    "# List names can be given with or without quotes\n",
    "study <- list(Subject_ID = subject_ids,\n",
    "              \"Measurements\" = measurements,\n",
    "              Study_name = \"Blood tests\")\n",
    "study\n"
   ]
  },
  {
   "cell_type": "markdown",
   "metadata": {},
   "source": [
    "Listoja ja niiden kaltaisia olioita käytetään R:ssä paljon. Listoihin on kätevä kerätä erilaista tietoa, jotka halutaan säilyttää samassa paketissa. Esimerkiksi yksinkertaisetkin tilastolliset mallit tuottavat paljon erilaista tietoa, jotka pakataan listaan (tarkemmin listan kaltaiseen olioon, tästä lisää myöhemmin).\n",
    "\n",
    "### Listojen alkioiden käsittely\n",
    "\n",
    "Listan alkioihin pääsee käsiksi kahdella eri tavalla: kaksoishakasulkeilla ```[[]]``` tai, jos lista on nimetty, dollarimerkillä ```$```:\n"
   ]
  },
  {
   "cell_type": "code",
   "execution_count": null,
   "metadata": {},
   "outputs": [],
   "source": [
    "# By position\n",
    "study[[2]]\n",
    "# By name\n",
    "study[[\"Subject_ID\"]]\n",
    "# Using dollar sign\n",
    "study$Study_name\n"
   ]
  },
  {
   "cell_type": "markdown",
   "metadata": {},
   "source": [
    "Listaa voi indeksoida myös yksinkertaisilla hakasulkeilla. Tällöin palautetaan aina lista, eikä yksittäistä alkiota kuten aiemmin. Tämän demonstroiminen vaatii tutustumista uuteen funktioon ```class```, joka palauttaa argumenttinsa luokan (class). Vektorin luokka vaihtelee vektorin sisällön mukaan: numeric = lukuja, character = merkkijonoja, logical = loogisia arvoja, jne. Listojen luokka on luonnollisesti list. Lisätietoa: R:ssä kaikki muuttujiin tallennettavat tiedot ovat olioita (object). Ohjelmointikielten olioilla on aina luokka, joka määrittää sen ominaisuudet. Esimerkiksi ```print``` ja ```plot```-komennot toimivat eri tavalla riippuen niiden argumentin luokasta.\n",
    "\n",
    "Tarkastellaan alla, mikä ero yksinkertaisilla ja kaksinkertaisilla hakasulkeilla on listan indeksoinnissa:\n"
   ]
  },
  {
   "cell_type": "code",
   "execution_count": null,
   "metadata": {},
   "outputs": [],
   "source": [
    "# Returns a list of length one with the matrix as the only element\n",
    "study[2]\n",
    "class(study[2])\n",
    "# Returns the actual matrix\n",
    "study[[2]]\n",
    "class(study[[2]])\n",
    "# Dollar sign also returns the matrix\n",
    "class(study$Measurements)\n",
    "# Single brackets works as subscripting just like with vectors\n",
    "study[2:3]\n"
   ]
  },
  {
   "cell_type": "markdown",
   "metadata": {},
   "source": [
    "### Alkion lisäys listaan ja listojen yhdistäminen\n",
    "\n",
    "Yksittäisen alkion voi lisätä listaan sijoittamalla listan johonkin indeksiin tai nimeen uusi arvo (indeksin pitää olla yhtä suurempi kuin listan pituus). HUOM! Listan alkio voi myös itse olla lista (sisäkkäinen lista = nested list).\n"
   ]
  },
  {
   "cell_type": "code",
   "execution_count": null,
   "metadata": {},
   "outputs": [],
   "source": [
    "# Add a character matrix as the fourth element of study\n",
    "study[[4]] <- matrix(c(\"CPR\", \"HDL\", \"LDL\",\n",
    "                       \"C-reactive protein\", \"High-density lipoprotein\",\n",
    "                       \"Low-density lipoprotein\"),\n",
    "                     ncol = 2)\n",
    "# An element of a list can also be a list\n",
    "study[[\"professional\"]] <- list(name = c(\"John H. Watson\"),\n",
    "                                position = \"Medical doctor\",\n",
    "                                age = 45)\n",
    "study\n",
    "# Note that the fourth element has no name\n",
    "names(study)\n"
   ]
  },
  {
   "cell_type": "markdown",
   "metadata": {},
   "source": [
    "Listoja voi yhdistää vektorien tapaan ```c()```-funktiolla:\n",
    "\n"
   ]
  },
  {
   "cell_type": "code",
   "execution_count": null,
   "metadata": {},
   "outputs": [],
   "source": [
    "# Concatenate two vectors\n",
    "vector1 <- c(3, 6, 5)\n",
    "vector2 <- c(1, 2, 3)\n",
    "c(vector1, vector2)\n",
    "\n",
    "\n",
    "list1 <- list(vector = vector1,\n",
    "              name = \"list1\")\n",
    "list2 <- study[1:2]\n",
    "# Concatenate three lists, names stay the same\n",
    "c(list1, list2, list(first_element = \"A\", second = \"B\"))\n"
   ]
  },
  {
   "cell_type": "markdown",
   "metadata": {},
   "source": [
    "## Data frame\n",
    "\n",
    "Data frame on erittäin yleinen tapa tallentaa tietoa R:ssä. Data frame on kaksiulotteinen tietorakenne, eli sillä on rivejä ja sarakkeita aivan kuten matriisilla. Data framen ja matriisin välillä on kuitenkin yksi tärkeä ero: data framen sarakkeet voivat olla eri luokan vektoreita.\n",
    "\n",
    "Muutetaan esimerkiksi edellä nähdyn ```study```-listan ``Subject_ID``` ja ```Measurements```-osat yhdeksi data frameksi:\n"
   ]
  },
  {
   "cell_type": "code",
   "execution_count": null,
   "metadata": {},
   "outputs": [],
   "source": [
    "study_data <- data.frame(Subject_ID = study$Subject_ID,\n",
    "                         study$Measurements)\n",
    "study_data\n"
   ]
  },
  {
   "cell_type": "markdown",
   "metadata": {},
   "source": [
    "\n"
   ]
  },
  {
   "cell_type": "code",
   "execution_count": null,
   "metadata": {},
   "outputs": [],
   "source": [
    "### Data framen käsittely\n",
    "\n",
    "Vaikka data frame näyttää ulkoisesti matriisilta, data frame on itse asiassa lista, jonka kaikki alkiot ovat yhtä pitkiä vektoreita. Data framella on kuitenkin monta erityisominaisuutta, ja data frame käyttäytyy välillä kuin matriisi, välillä kuin lista. Tässä muutama esimerkki:\n"
   ]
  },
  {
   "cell_type": "code",
   "execution_count": null,
   "metadata": {},
   "outputs": [],
   "source": [
    "# Subscripting with brackets - as matrix\n",
    "study_data[2:3, 1:3]\n",
    "# Rownames and colnames - as matrix\n",
    "colnames(study_data)\n",
    "# Individual columns can be accessed and added with dollar sign - as list\n",
    "study_data$CRP\n",
    "study_data$height <- c(168, 185, 172)\n",
    "study_data\n",
    "# Filtering based on a variable can be done like this\n",
    "study_data[study_data$HDL < 4, ]\n"
   ]
  },
  {
   "cell_type": "markdown",
   "metadata": {},
   "source": [
    "Uuden rivin lisäys data frameen on hieman monimutkaisempaa kuin uuden rivin lisääminen matriisiin, sillä ensin pitää tehdä uusi data frame, jolla on samat sarakkeet kuin alkuperäisellä, ja vasta sitten liittää se komennolla ```rbind()```.\n",
    "\n"
   ]
  },
  {
   "cell_type": "code",
   "execution_count": null,
   "metadata": {},
   "outputs": [],
   "source": [
    "new_row <- data.frame(Subject_ID = \"BRWA\", CRP = 2, HDL = 4, LDL = 2, height = 182)\n",
    "rownames(new_row) <- \"BRWA\"\n",
    "rbind(study_data, new_row)\n"
   ]
  },
  {
   "cell_type": "markdown",
   "metadata": {},
   "source": [
    "Data framet ovat erittäin käteviä, koska niihin voi helposti tallentaa sekä merkkijonoja, että numeerista dataa. Kannattaa kuitenkin muistaa, että matriisi on usein laskennan kannalta tehokkaampi tietorakenne, kuin data frame. Tästä ei tarvitse murehtia tällä kurssilla, mutta se on hyvä tietää jatkon kannalta, jos bioinformatiikkakursseilla tulee vastaan isompia datasettejä, joissa on osia, jotka voi tallentaa matriisina.\n",
    "\n",
    "## View()\n",
    "\n",
    "Data frameja ja matriiseja tai niiden osia voi tulostaa R:n konsoliin kuten muitakin muuttujia. Tarkempaa tarkastelua varten kannattaa kuitenkin käyttää ```View```-funktiota. ```View``` avaa ikkunan, jossa voi selata data framen tai matriisin rivejä ja sarakkeita, sekä järjestää arvoja halutun sarakkeen mukaan (tämä järjestys säilyy vain ```View```-näkymässä, itse muuttujan rakenne ei muutu).\n"
   ]
  },
  {
   "cell_type": "code",
   "execution_count": null,
   "metadata": {},
   "outputs": [],
   "source": []
  }
 ],
 "metadata": {
  "anaconda-cloud": "",
  "kernelspec": {
   "display_name": "R",
   "language": "R",
   "name": "ir"
  },
  "language_info": {
   "codemirror_mode": "r",
   "file_extension": ".r",
   "mimetype": "text/x-r-source",
   "name": "R",
   "pygments_lexer": "r",
   "version": "4.0.2"
  }
 },
 "nbformat": 4,
 "nbformat_minor": 1
}

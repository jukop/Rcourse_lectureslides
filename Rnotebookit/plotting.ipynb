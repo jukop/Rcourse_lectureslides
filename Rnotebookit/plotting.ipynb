{
 "cells": [
  {
   "cell_type": "markdown",
   "metadata": {},
   "source": [
    "  \n",
    "# Kuvaajien piirtäminen\n",
    "\n",
    "Tällä viikolla tutustutaan kuvaajien piirtämiseen. Moodlessa on aiheesta myös suomenkielinen opetusvideo, mutta tässä on silti lyhyet kirjalliset ohjeet suomeksi. **Tämän dokumentin lopussa on myös [käytännön vinkkejä tämän viikon tehtävään](#tämän-viikon-tehtävä).**\n",
    "\n",
    "R:n piirtokomennot voidaan jakaa kolmeen ryhmään:\n",
    "\n",
    "- Korkean tason grafiikkatoiminnot piirtävät aina uuden kuvat\n",
    "- Alemman tason grafiikkatoiminnot lisäävät olemassa olevaan kuvaan uusia osia\n",
    "- Interaktiiviset grafiikkatoiminnot mahdollistavat vuorovaikutuksen kuvan kanssa. (Näiden käyttö on helpompaa opettaa videolla, joten niitä ei käsitellä tässä)\n",
    "\n",
    "## Korkean tason piirtofunktiot\n",
    "\n",
    "### plot()\n",
    "\n",
    "Korkean tason piirtofunktioista ylivoimaisesti yleisin on ```plot```. ```plot```-funktio on hyvin monipuolinen, mutta yleisin käyttötapa on piirtää hajontakuvio (scatter plot) yhdestä tai kahdesta vektorista. Alla on hajontakuvio auton jarrutusmatkoista eri nopeuksilla:\n"
   ]
  },
  {
   "cell_type": "code",
   "execution_count": null,
   "metadata": {},
   "outputs": [],
   "source": [
    "# Car speeds (km/h)\n",
    "speed <- seq(40, 110, by = 10)\n",
    "# Stopping distances (m)\n",
    "stop_dist <- c(26, 35, 45, 56, 69, 83, 98, 113)\n",
    "\n",
    "plot(x = speed, y = stop_dist)\n"
   ]
  },
  {
   "cell_type": "markdown",
   "metadata": {},
   "source": [
    "\n"
   ]
  },
  {
   "cell_type": "code",
   "execution_count": null,
   "metadata": {},
   "outputs": [],
   "source": [
    "plot(x = speed, y = stop_dist,\n",
    "     main = \"Auton pysähtymismatka eri nopeuksilla\",\n",
    "     xlab = \"Auton nopeus (km / h)\", ylab = \"Pysähtymismatka (m)\")\n"
   ]
  },
  {
   "cell_type": "markdown",
   "metadata": {},
   "source": [
    "### Muut korkean tason funktiot\n",
    "\n",
    "Tässä on esimerkkejä muutamista muista yleisistä korkean tason funktioista:\n"
   ]
  },
  {
   "cell_type": "code",
   "execution_count": null,
   "metadata": {},
   "outputs": [],
   "source": [
    "# A vector of 1000 observations from a normal distribution of heights of Finnish women\n",
    "heights <- rnorm(n = 1000, mean = 168, sd = 5.4)\n",
    "hist(heights, breaks = 20, \n",
    "     main = \"Suomalaisten naisten pituuksien jakauma\",\n",
    "     xlab = \"Pituus (cm)\", ylab = \"Frekvenssi\")\n"
   ]
  },
  {
   "cell_type": "markdown",
   "metadata": {},
   "source": [
    "Toinen tapa kuvata jatkuvan muuttujan jakaumaa on laatikkokuvaaja, joita piirretään ```boxplot```-funktiolla:\n",
    "\n"
   ]
  },
  {
   "cell_type": "code",
   "execution_count": null,
   "metadata": {},
   "outputs": [],
   "source": [
    "boxplot(heights, breaks = 20, \n",
    "     main = \"Suomalaisten naisten pituuksien jakauma\",\n",
    "     ylab = \"Pituus (cm)\")\n"
   ]
  },
  {
   "cell_type": "markdown",
   "metadata": {},
   "source": [
    "Vastaavasti diskreetin muuttujan jakaumaa voi kuvata pylväsdiagrammilla käyttäen ```barplot```-funktiota. Alla on esimerkki opiskelijoiden kotipaikkakuntien jakaumasta. Tässä tulee myös tutuksi uusi vektorien ominaisuus: nimeäminen. Nimettyjen vektorien (named vectors) alkioilla on järjestyslukujen lisäksi nimet. Nimet annetaan olla olevaan tyyliin ```nimi = alkio```. Nimetyt vektori käyttäytyvät aivan kuin tavalliset vektorit, mutta niitä voi indeksoida myös nimien avulla, ja jotkut funktiot, kuten barplot, käyttävät hyödyksi alkioiden nimiä. Nimettyjen vektorien käyttö ei ole kurssin ydinasioita, mutta on joskus hyvin kätevä temppu osata.\n",
    "\n"
   ]
  },
  {
   "cell_type": "code",
   "execution_count": null,
   "metadata": {},
   "outputs": [],
   "source": [
    "origin <- c(\"Pohjois-Savo\" = 15, \"Pk-seutu\" = 10, \"Turku\" = 3,\n",
    "            \"Pohjois-Suomi\" = 8)\n",
    "origin\n",
    "origin[\"Turku\"]\n",
    "barplot(origin, \n",
    "        main = \"Opiskelijoiden kotipaikkakunta\",\n",
    "        ylab = \"Opiskelijoiden lukumäärä\")\n"
   ]
  },
  {
   "cell_type": "markdown",
   "metadata": {},
   "source": [
    "## Alemman tason grafiikkatoiminnot\n",
    "\n",
    "Alemman tason grafiikkatoiminnoilla voi lisätä olemassa olevaan kuvaan lisää osia, kuten tekstiä, pisteitä tai selitteen (legend).\n",
    "\n",
    "Otetaan esimerkiksi alussa nähty kuvaaja autojen pysähtymismatkoista ja lisätään siihen uusia osia. Tässä vielä alkuperäinen kuva:\n"
   ]
  },
  {
   "cell_type": "code",
   "execution_count": null,
   "metadata": {},
   "outputs": [],
   "source": [
    "plot(x = speed, y = stop_dist,\n",
    "     main = \"Auton pysähtymismatka eri nopeuksilla\",\n",
    "     xlab = \"Auton nopeus (km / h)\", ylab = \"Pysähtymismatka (m)\")\n"
   ]
  },
  {
   "cell_type": "markdown",
   "metadata": {},
   "source": [
    "Lisätään kuvaajan jarrutusmatkat liukkaalla kelillä. Uusia pisteitä voi piirtää ```points```-funktiolla, jolle annetaan x- ja y-koordinaatit vektoreina ihan kuin ```plot```-funktiollekin. \n",
    "\n"
   ]
  },
  {
   "cell_type": "code",
   "execution_count": null,
   "metadata": {},
   "outputs": [],
   "source": [
    "stop_dist_wet <- c(30, 41, 54, 69, 85, 103, 122, 143)\n",
    "plot(x = speed, y = stop_dist,\n",
    "     main = \"Auton pysähtymismatka eri nopeuksilla\",\n",
    "     xlab = \"Auton nopeus (km / h)\", ylab = \"Pysähtymismatka (m)\")\n",
    "points(x = speed, y = stop_dist_wet)\n"
   ]
  },
  {
   "cell_type": "markdown",
   "metadata": {},
   "source": [
    "Ylläolevassa kuvaajassa on kaksi ongelmaa: ylimmät pisteet eivät näy, koska kuvaajan y-akseli loppuu kesken. Y-akseli on piirretty alkuperäisten jarrutusmatkojen pohjalta, ja koska liukkaalla kelillä jarrutus kestää pidempään, uudet pisteet eivät mahdu kuvaajaan. Toinen ongelma on se, että pisteitä ei voi erottaa toisistaan.\n",
    "\n",
    "Ensimmäinen ongelma ratkeaa säätämällä käsin y-akselin rajat. Tämä tapahtuu argumentilla ```ylim```, jolle annetaan vektorissa ylä- ja alaraja (vastaavasti ```xlim``` säätää x-akselin rajat).\n",
    "\n",
    "Lisäksi piirretään selvyyden vuoksi pisteet eri värisinä ja eri kuvioilla. Argumentti ```col``` säätää pisteiden värin ja ```pch``` pisteiden muodon. Eri väri- ja muotovaihtoehdot löytää googlaamalla.\n"
   ]
  },
  {
   "cell_type": "code",
   "execution_count": null,
   "metadata": {},
   "outputs": [],
   "source": [
    "plot(x = speed, y = stop_dist,\n",
    "     col = \"darkblue\", pch = 20,\n",
    "     ylim = c(20, 150),\n",
    "     main = \"Auton pysähtymismatka eri nopeuksilla\",\n",
    "     xlab = \"Auton nopeus (km / h)\", ylab = \"Pysähtymismatka (m)\")\n",
    "points(x = speed, y = stop_dist_wet, pch = 15, col = \"darkred\")\n"
   ]
  },
  {
   "cell_type": "markdown",
   "metadata": {},
   "source": [
    "Nyt kuvaaja alkaa jo näyttää paremmalta, mutta kuvaajasta ei vielä voi päätellä, mitä eri väriset pisteet tarkoittavat. Lisätään siis kuvaajaan selite ```legend```-komennolla. Selitteelle määritetään paikka kuvaajassa ```x``` ja ```y``` argumenteilla (vasemman yläkulman koordinaatit). Sen jälkeen annetaan selitetekstit (```legend```), sekä selitteen muodot ja värit (```pch``` ja ```col```, kuten aiemmin). HUOM! Selitteen symbolit ja värit on itse osattava laittaa oikeaan järjestykseen. Selitteen tekstit annetaan järjestyksessä ylhäältä alas, ja piirtomerkit tulee antaa samassa järjestyksessä.\n",
    "\n"
   ]
  },
  {
   "cell_type": "code",
   "execution_count": null,
   "metadata": {},
   "outputs": [],
   "source": [
    "plot(x = speed, y = stop_dist,\n",
    "     col = \"darkblue\", pch = 20,\n",
    "     ylim = c(20, 150),\n",
    "     main = \"Auton pysähtymismatka eri nopeuksilla\",\n",
    "     xlab = \"Auton nopeus (km / h)\", ylab = \"Pysähtymismatka (m)\")\n",
    "\n",
    "points(x = speed, y = stop_dist_wet, pch = 15, col = \"darkred\")\n",
    "\n",
    "legend(x = 40, y = 150,\n",
    "       legend = c(\"Märkä keli\", \"Kuiva keli\"),\n",
    "       pch = c(15, 20), col = c(\"darkred\", \"darkblue\"))\n"
   ]
  },
  {
   "cell_type": "markdown",
   "metadata": {},
   "source": [
    "Tuunataan kuvaajaa vielä hiukan, ja lisätään siihen käyrä kuvaamaan jarrutusmatkan ennustetta ```lines```-funktiolla.\n",
    "\n",
    "\n",
    "Alla olevassa koodissa lasketaan ensin ```lm```-funktion avulla sopivat parametrit käyrälle. Lineaarisia malleja käsitellään seuraavien viikkojen aikana, joten tässä vaiheessa niistä ei tarvitse vielä ymmärtää muuta kuin se, että funktio sovittaa toisen asteen funktion (muotoa matka = a + b \\* nopeus + c \\* nopeus^2), jonka perusteella voidaan ennustaa pysähtymismatkaa myös muille kuin mitatuille nopeuksille\n"
   ]
  },
  {
   "cell_type": "code",
   "execution_count": null,
   "metadata": {},
   "outputs": [],
   "source": [
    "# Create vecotr of squared speeds to fit second order polynomial\n",
    "speed_squared <- speed^2\n",
    "\n",
    "# Model for dry weather\n",
    "model_dry <- lm(stop_dist ~ speed + speed_squared)\n",
    "prediction_dry <- model_dry$fitted.values\n",
    "\n",
    "# Model for rainy weather\n",
    "model_wet <- lm(stop_dist_wet ~ speed + speed_squared)\n",
    "prediction_wet <- model_wet$fitted.values\n"
   ]
  },
  {
   "cell_type": "code",
   "execution_count": null,
   "metadata": {},
   "outputs": [],
   "source": [
    "plot(x = speed, y = stop_dist,\n",
    "     col = \"darkblue\", pch = 20,\n",
    "     ylim = c(20, 150),\n",
    "     main = \"Auton pysähtymismatka eri nopeuksilla\",\n",
    "     xlab = \"Auton nopeus (km / h)\", ylab = \"Pysähtymismatka (m)\")\n",
    "\n",
    "points(x = speed, y = stop_dist_wet, pch = 15, col = \"darkred\")\n",
    "\n",
    "legend(x = 40, y = 150,\n",
    "       legend = c(\"Märkä keli\", \"Kuiva keli\"),\n",
    "       pch = c(15, 20), col = c(\"darkred\", \"darkblue\"))\n",
    "\n",
    "lines(speed, prediction_dry, lty = \"dashed\")\n",
    "lines(speed, prediction_wet, lty = \"dashed\")\n"
   ]
  },
  {
   "cell_type": "markdown",
   "metadata": {},
   "source": [
    "Seuraavaksi voidaan värittää käyrät samoilla väreillä kuin pisteet, ja lisätä niille omat selitteet. Tässä vaiheessa selitteen tekemisestä tulee jo melko monimutkaista, sillä selitteessä on mukana pisteitä ja käyriä. Tästä syystä selitteen argumentteihin pitää laittaa puuttuvia arvoja ```pch``` ja ```lty```-argumenteille, koska selitteen ensimmäiset rivit eivät viittaa mihinkään käyrään, vaan pelkästään pisteisiin ja vastaavasti kaksi alinta riviä viittaavat vain käyriin.\n",
    "\n"
   ]
  },
  {
   "cell_type": "code",
   "execution_count": null,
   "metadata": {},
   "outputs": [],
   "source": [
    "plot(x = speed, y = stop_dist,\n",
    "     col = \"darkblue\", pch = 20,\n",
    "     ylim = c(20, 150),\n",
    "     main = \"Auton pysähtymismatka eri nopeuksilla\",\n",
    "     xlab = \"Auton nopeus (km / h)\", ylab = \"Pysähtymismatka (m)\")\n",
    "\n",
    "points(x = speed, y = stop_dist_wet, pch = 15, col = \"darkred\")\n",
    "\n",
    "legend(x = 40, y = 150,\n",
    "       legend = c(\"Märkä keli\", \"Kuiva keli\",\n",
    "                  \"Ennuste märälle kelille\",\n",
    "                  \"Ennuste kuivalle kelille\"),\n",
    "       pch = c(15, 20, NA, NA),\n",
    "       lty = c(NA, NA, \"dashed\", \"dashed\"),\n",
    "       col = c(\"darkred\", \"darkblue\", \"darkred\", \"darkblue\"))\n",
    "\n",
    "lines(speed, prediction_dry, lty = \"dashed\", col = \"darkblue\")\n",
    "lines(speed, prediction_wet, lty = \"dashed\", col = \"darkred\")\n"
   ]
  },
  {
   "cell_type": "markdown",
   "metadata": {},
   "source": [
    "Kuvaajamme on melkein valmis iltapäivälehteen muistuttamaan liukkaiden kelien vaaroista, mutta jotta siitä tulisi oikein säväyttävä, siinä pitää toki olla tekstiä! Lisätään siis vielä pieni tekstin pätkä, joka korostaa eroa liukkaan ja kuivan kelin välillä. Tekstiä voi lisätä ```text```-funktiolla, jolle annetaan tuttuun tapaan ```x``` ja ```y```-argumentit, joilla määritetään tekstin paikka ja ```labels``` määrittää itse tekstin (kaikki argumentit voivat olla myös pidempiä vektoreita, jolloin tulee useampi teksti eri paikkoihin). Lisäksi parametrillä ```adj``` (adjust) voi hienosäätää tekstin paikkaa. ```adj``` on vektori, jossa on hienosäätöarvot x- ja y-suunnassa. \n",
    "\n"
   ]
  },
  {
   "cell_type": "code",
   "execution_count": null,
   "metadata": {},
   "outputs": [],
   "source": [
    "plot(x = speed, y = stop_dist,\n",
    "     col = \"darkblue\", pch = 20,\n",
    "     ylim = c(20, 150),\n",
    "     main = \"Auton pysähtymismatka eri nopeuksilla\",\n",
    "     xlab = \"Auton nopeus (km / h)\", ylab = \"Pysähtymismatka (m)\")\n",
    "\n",
    "points(x = speed, y = stop_dist_wet, pch = 15, col = \"darkred\")\n",
    "\n",
    "legend(x = 40, y = 150,\n",
    "       legend = c(\"Märkä keli\", \"Kuiva keli\",\n",
    "                  \"Ennuste märälle kelille\",\n",
    "                  \"Ennuste kuivalle kelille\"),\n",
    "       pch = c(15, 20, NA, NA),\n",
    "       lty = c(NA, NA, \"dashed\", \"dashed\"),\n",
    "       col = c(\"darkred\", \"darkblue\", \"darkred\", \"darkblue\"))\n",
    "\n",
    "lines(speed, prediction_dry, lty = \"dashed\", col = \"darkblue\")\n",
    "lines(speed, prediction_wet, lty = \"dashed\", col = \"darkred\")\n",
    "\n",
    "text(x = 95, y = 145, labels = \"ERO JOPA 30 M!!\") \n"
   ]
  },
  {
   "cell_type": "markdown",
   "metadata": {},
   "source": [
    "Kuvaajamme on nyt valmis! \n",
    "\n",
    "## Kuvaajien piirtäminen käytännössä\n",
    "\n",
    "Jos äskeisen esimerkin aikana tuntui siltä, että näimme paljon työtä ja saimme lopputulokseksi kuvaajan, joka ei oikeastaan edes näytä kovin hyvältä, olet aivan oikeassa. Kuvaajien rakentaminen itse R:n peruskomennoilla on raskasta, ja usein perusgrafiikkatoimintoja käytetään lähinnä omaan käyttöön tulevien kuvaajien piirtämiseen nopeasti. Peruskomennot on kuitenkin hyvä hallita, sillä niitä saattaa tarvita valmiilla työkaluilla tehtyjen kuvaajien muokkaamiseen. Varsinkin tekstin lisääminen, sekä akselien nimeäminen ja otsikon muuttaminen ovat hyviä taitoja osata.\n",
    "\n",
    "R tarjoaa paljon valmiita työkaluja erilaisten kuvaajien piirtämiseen. Valitettavasti tällä kurssilla ei ole aikaa sukeltaa näiden työkalujen käyttöön, sillä ennen niiden käyttöä pitää ymmärtää enemmän R:n monimutkaisemmista tietorakenteista, joita käsitellään seuraavilla viikoilla. Inspiraatiota ja motivaatiota voi kuitenkin hakea esimerkiksi [R Graph Gallery](https://www.r-graph-gallery.com/index.html)-sivulta tai [ggpubr-paketin ohjeista](https://rpkgs.datanovia.com/ggpubr/index.html). \n",
    "\n"
   ]
  },
  {
   "cell_type": "code",
   "execution_count": null,
   "metadata": {},
   "outputs": [],
   "source": []
  }
 ],
 "metadata": {
  "anaconda-cloud": "",
  "kernelspec": {
   "display_name": "R",
   "language": "R",
   "name": "ir"
  },
  "language_info": {
   "codemirror_mode": "r",
   "file_extension": ".r",
   "mimetype": "text/x-r-source",
   "name": "R",
   "pygments_lexer": "r",
   "version": "4.0.2"
  }
 },
 "nbformat": 4,
 "nbformat_minor": 1
}

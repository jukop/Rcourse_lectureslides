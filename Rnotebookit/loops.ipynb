{
    "cells": [
        {
            "cell_type": "markdown",
            "metadata": {},
            "source": [
                "# Toistorakenteet (loops)\n",
                "\n",
                "Toistorakenne toistaa annettua koodia. Toistorakenteet ovat ehtorakenteiden ohella ohjelmoinnin perusrakennuspalikoita. Tässä osiossa tutustutaan kahteen yleisimpään tapaukseen eli for ja while -silmukoihin. Mukana on myös maininta silmukoiden korvaamisesta R:n apply-funktioilla. Lopusta löytyy lisäksi vinkkejä tämän viikon tehtäviin.\n",
                "\n",
                "Lisäksi tällä viikolla puhutaan [R-paketeista](https://github.com/antonvsdata/r_intro/blob/master/viikko_7/packages.md).\n",
                "\n",
                "## For-silmukka\n",
                "\n",
                "For-silmukka toistaa koodia ennalta määrättyjen iteraatioiden verran. For-silmukalla voi esimerkiksi käydä läpi data framen tai matriisin sarakkeita tai rivejä, tai vektorin arvoja. For-silmukka iteroi aina jonkin vektorin arvojen yli: for-silmukalle siis annetaan siis vektori arvoja, ja ns. iteraatiomuuttuja, johon tallennetaan vuorotellen yksi alkio annetusta vektorista. Käytännössä tämä näyttää tältä:\n"
            ]
        },
        {
            "cell_type": "code",
            "execution_count": null,
            "metadata": {},
            "outputs": [],
            "source": [
                "for (i in seq(3, 7)) {\n",
                "  print(i)\n",
                "}\n"
            ]
        },
        {
            "cell_type": "markdown",
            "metadata": {},
            "source": [
                "for-silmukassa määritetään siis ensin iteraatiomuuttuja eli ```i``` ja sen saamat arvot eli ```seq(3, 7)``` komennolla ```in```. Sen jälkeen hakasulkeiden sisältämä koodi toistetaan jokaiselle ```i```:n arvolle. Tässä tapauksessa yksinkertaisesti tulostetaan muuttujan ```i``` arvo.\n",
                "\n",
                "Usein halutaan kuitenkin käydä läpi jonkin vektorin tai matriisin arvoja. Alla oleva koodi laskee matriisin X rivien summan (tähän voisi myös käyttää valmista funktiota ```rowSums()```). Aluksi alustetaan tyhjä vektori, johon rivien summat tallennetaan. Sen jälkeen käydään läpi matriisin rivit ja tallennetaan rivin summa alussa alustettuun vektoriin.\n"
            ]
        },
        {
            "cell_type": "code",
            "execution_count": null,
            "metadata": {},
            "outputs": [],
            "source": [
                "# Create matrix X\n",
                "X <- matrix(1:12, nrow = 4)\n",
                "X\n",
                "\n",
                "# Initialize vector for row sums\n",
                "row_sums <- rep(0, nrow(X))\n",
                "# Iterate over rows of X\n",
                "for (i in seq(1, nrow(X))) {\n",
                "  # Assign sum of the current row to the vector\n",
                "  row_sums[i] <- sum(X[i, ])\n",
                "}\n",
                "\n",
                "# Compare results with the result from base R function\n",
                "row_sums\n",
                "rowSums(X)\n"
            ]
        },
        {
            "cell_type": "markdown",
            "metadata": {},
            "source": [
                "For-silmukalla voi myös toteuttaa viime kerralla tehdyn funktion, joka poimii DNA:n emäksistä vain sytosiinit ja guaniinit. Tällä kertaa apufunktiota ```is_cg()``` ei tarvitse vektorisoida, koska for-silmukka käy läpi kaikki emäkset. Tämä silmukka voidaan toteuttaa kahdella tavalla. Ensimmäinen tapa on käyttää iteraatiomuuttujana i:tä, joka käy läpi iteraation ykkösestä emäsvektroin pituuteen:\n",
                "\n"
            ]
        },
        {
            "cell_type": "code",
            "execution_count": null,
            "metadata": {},
            "outputs": [],
            "source": [
                "# Helper function\n",
                "is_cg <- function(base) {\n",
                "  if (base %in% c(\"C\", \"G\")) {\n",
                "    return(TRUE)\n",
                "  } else {\n",
                "    return(FALSE)\n",
                "  }\n",
                "}\n",
                "\n",
                "# Main function\n",
                "pick_cg1 <- function(bases) {\n",
                "  # Initialize empty vector\n",
                "  only_cg <- c()\n",
                "  for (i in seq(1, length(bases))) {\n",
                "    # If the current base is C or G, add it to only_cg\n",
                "    if (is_cg(bases[i])) {\n",
                "      only_cg <- c(only_cg, bases[i])\n",
                "    }\n",
                "  }\n",
                "  \n",
                "  return(only_cg)\n",
                "}\n",
                "\n",
                "my_bases <- c(\"A\", \"C\", \"C\", \"T\", \"G\", \"T\")\n",
                "pick_cg1(my_bases)\n"
            ]
        },
        {
            "cell_type": "markdown",
            "metadata": {},
            "source": [
                "Toinen vaihtoehto on iteroida suoraan vektorin bases yli, jolloin iteraatiomuuttujaan tallentuu suoraan kyseinen emäs:\n",
                "\n"
            ]
        },
        {
            "cell_type": "code",
            "execution_count": null,
            "metadata": {},
            "outputs": [],
            "source": [
                "pick_cg2 <- function(bases) {\n",
                "  # Initialize empty vector\n",
                "  only_cg <- c()\n",
                "  for (base in bases) {\n",
                "    # If the current base is C or G, add it to only_cg\n",
                "    if (is_cg(base)) {\n",
                "      only_cg <- c(only_cg, base)\n",
                "    }\n",
                "  }\n",
                "  \n",
                "  return(only_cg)\n",
                "}\n",
                "\n",
                "my_bases <- c(\"A\", \"C\", \"C\", \"T\", \"G\", \"T\")\n",
                "pick_cg2(my_bases)\n"
            ]
        },
        {
            "cell_type": "markdown",
            "metadata": {},
            "source": [
                "Iteraatiomuuttujan voi siis nimetä haluamallaan tavalla, sen ei aina tarvitse olla i. Jos kuitenkin iteraatiomuuttujaan tallennetaan vain yksi luku, suosittelen vahvasti käyttämään i:tä. Tämä on hyvin vakiintunut tapa ohjelmointikielestä ja ohjelmoijasta riippumatta, vaikka muutoin muuttujien nimeämiseen on erilaisia koulukuntia riippuen ohjelmoijan taustasta. Jos taas iteroidaan vektorin nimeltä bases yli, on luonnollinen valinta iteraatiomuuttujan nimeksi base.\n",
                "\n",
                "![](naming.jpg)\n",
                "\n",
                "## While-slimukat\n",
                "\n",
                "While-silmukkaa käytetään, kun iteraatioiden määrä ei ole ennalta tiedossa, vaan while-silmukkaa toistetaan niin kauan, kuin tietty ehto on voimassa. Hyvä esimerkki while-loopista on proteiinisynteesi (yksinkertaistettuna): alla oleva funktio käy läpi RNA-molekyylin kodoneita, kunnes löytää aloituskodonin AUG. Sen jälkeen funktio rakentaa aminohappoketjua kodonien perusteella, kunnes vastaan tulee jokin lopetuskodoneista. Oikean proteiinin löytämiseen käytetään Biostrings-paketista löytyvää geneettistä koodia, joka on nimetty vektori, jossa on kodoneita vastaavien aminohappojen kirjainlyhenne, tai lopetuskodonien tapauksessa merkki \"*\":\n"
            ]
        },
        {
            "cell_type": "code",
            "execution_count": null,
            "metadata": {},
            "outputs": [],
            "source": [
                "rna_code <- Biostrings::RNA_GENETIC_CODE\n",
                "rna_code\n"
            ]
        },
        {
            "cell_type": "markdown",
            "metadata": {},
            "source": [
                "\n",
                "\n"
            ]
        },
        {
            "cell_type": "code",
            "execution_count": null,
            "metadata": {},
            "outputs": [],
            "source": [
                "prot_synth <- function(codons) {\n",
                "  # Initialize iterable as the first codon\n",
                "  i <- 1\n",
                "  # Initialize empty amino acid chain\n",
                "  protein <- c()\n",
                "  # Find starting codon\n",
                "  while (codons[i] != \"AUG\") {\n",
                "    i <- i + 1\n",
                "  }\n",
                "  # After starting codon, build protein until one of the stop codons is met\n",
                "  while (rna_code[codons[i]] != \"*\") {\n",
                "    protein <- c(protein, rna_code[codons[i]])\n",
                "    i <- i + 1\n",
                "  }\n",
                "  return(protein)\n",
                "}\n",
                "\n",
                "prot_synth(codons = c(\"UUG\", \"GAA\", \"AUG\", \"UGU\", \"AGU\", \"AGA\", \"UCG\", \"UCG\", \"UGA\", \"GCA\"))\n"
            ]
        },
        {
            "cell_type": "markdown",
            "metadata": {},
            "source": [
                "While silmukalle annetaan siis ensin ehto, joka tarkistetaan ennen jokaista iteraatiota. Jos ehto täyttyy, suoritetaan yksi iteraatio, ja tarkistetaan ehto uudestaan. HUOM: while-silmukan sisällä pitää itse kasvattaa iteraatiomuuttujaa, muuten silmukka saattaa jäädä pyörimään ikuisesti!\n",
                "\n",
                "Käytännössä kaikki for-silmukat voisi korvata while-silmukoilla, mutta for-silmukoiden käyttö on kätevämpää, sillä niissä iteraatiomuuttujaa tarvitse kasvattaa erikseen.\n"
            ]
        },
        {
            "cell_type": "code",
            "execution_count": null,
            "metadata": {},
            "outputs": [],
            "source": [
                "# A simple for loop\n",
                "for (i in seq(1, 4)) {\n",
                "  print(i * 2)\n",
                "}\n",
                "\n",
                "# The same as above\n",
                "i <- 1\n",
                "while (i <= 4) {\n",
                "  print(i * 2)\n",
                "  i <- i + 1\n",
                "}\n"
            ]
        },
        {
            "cell_type": "markdown",
            "metadata": {},
            "source": [
                "## Sisäkkäiset silmukat (nested loops)\n",
                "\n",
                "Silmukoita voi myös olla useampi sisäkkäin. Alla olevassa esimerkissä on taulukko tutkimuksesta, jossa on mitattu eri eliöiden $\\beta$- globiinigeenin ensimmäisen eksonin samankaltaisuutta. Pienempi luku tarkoittaa enemmän samankaltaista geeniä.\n"
            ]
        },
        {
            "cell_type": "code",
            "execution_count": null,
            "metadata": {},
            "outputs": [],
            "source": [
                "exons <- read.csv(\"exons.csv\", row.names = 1)\n",
                "knitr::kable(exons)\n"
            ]
        },
        {
            "cell_type": "markdown",
            "metadata": {},
            "source": [
                "Tämä data on tiedostossa exons.csv, joten luetaan se R:ään:\n",
                "\n"
            ]
        },
        {
            "cell_type": "code",
            "execution_count": null,
            "metadata": {},
            "outputs": [],
            "source": [
                "exons <- read.csv(\"exons.csv\", row.names = 1)\n",
                "\n"
            ]
        },
        {
            "cell_type": "markdown",
            "metadata": {},
            "source": [
                "Etsitään seuravaksi kaikki eliöparit, joiden geenien etäisyys on alle 4 ja lisätään parit data frameen, jossa on kaksi saraketta, ja jokainen rivi edustaa yhtä eliöparia. Käytetään tähän kahta sisäkkäistä for-silmukkaa. Toisen silmukan iteraatiomuuttujan nimi on yleensä j, seuraavan k ja niin edelleen. Käydään exons läpi niin, että i on rivin numero, ja j sarakkeen numero, ja etsitään sopivat parit.\n",
                "\n"
            ]
        },
        {
            "cell_type": "code",
            "execution_count": null,
            "metadata": {},
            "outputs": [],
            "source": [
                "# Initialize empty data frame for the pairs\n",
                "close_pairs <- data.frame()\n",
                "\n",
                "# Iterate over rows and columns\n",
                "for (i in seq(1, nrow(exons))) {\n",
                "  for (j in seq(1, ncol(exons))) {\n",
                "    # Check if dissimilarity is below 4\n",
                "    if (exons[i, j] < 4) {\n",
                "      # Add the pair as a new row to close_pairs\n",
                "      new_row <- data.frame(Species_1 = rownames(exons)[i],\n",
                "                            Species_2 = colnames(exons)[j])\n",
                "      close_pairs <- rbind(close_pairs,\n",
                "                           new_row)\n",
                "    }\n",
                "  }\n",
                "}\n",
                "\n",
                "close_pairs\n"
            ]
        },
        {
            "cell_type": "markdown",
            "metadata": {},
            "source": [
                "Koodimme toimii jo ihan hyvin, mutta tuloksessa on hieman turhaa tavaraa: exons on symmetrinen, joten monet parit on esitetty tuloksessa kahdesti. Tämä voidaan ratkaista muuttamalla toista for-silmukkaa:\n",
                "\n"
            ]
        },
        {
            "cell_type": "code",
            "execution_count": null,
            "metadata": {},
            "outputs": [],
            "source": [
                "# Initialize empty data frame for the pairs\n",
                "close_pairs <- data.frame()\n",
                "\n",
                "# Iterate over rows and columns\n",
                "for (i in seq(1, nrow(exons))) {\n",
                "  # Only check upper diagonal\n",
                "  for (j in seq(i, ncol(exons))) {\n",
                "    # Check if dissimilarity is below 4\n",
                "    if (exons[i, j] < 4) {\n",
                "      # Add the pair as a new row to close_pairs\n",
                "      new_row <- data.frame(Species_1 = rownames(exons)[i],\n",
                "                            Species_2 = colnames(exons)[j])\n",
                "      close_pairs <- rbind(close_pairs,\n",
                "                           new_row)\n",
                "    }\n",
                "  }\n",
                "}\n",
                "\n",
                "close_pairs\n"
            ]
        },
        {
            "cell_type": "markdown",
            "metadata": {},
            "source": [
                "Nyt toisen silmukan läpi käymät j:n arvot riippuvat i:n arvosta. Tämä koodi käy läpi taulukon ylemmän diagonaalin, eli \"yläpuolen\". Ensimmäisellä kierroksella j käy läpi arvot 1-7, seuraavalla kierroksella 2-7, sitten 3-7 jne. Vastaavasti voitaisiin myös käydä läpi alempi diagonaali komennolla ```for(j in seq(1, i)```.\n",
                "\n",
                "Emme kuitenkaan voi olla vieläkään tyytyväisä tulokseen, sillä mukana ovat \"parit\", joissa kumpikin laji on sama. Näistä emme luonnollisesti ole kiinnostuneita. Nämä parit voidaan poistaa esimerkiksi ````next```-komennolla.\n",
                "\n",
                "## Iterointiin puuttuminen: next ja break\n",
                "\n",
                "Joskus silmukan toimintaan on hyvä puuttua kesken suorituksen. Joskus yksi iteraatio halutaan sivuuttaa kokonaan, toisinaan taas halutaan keskeyttää iteraatio kokonaan. Näihin tarkoituksiin R:ssä on komennot ```next``` ja ```break```.\n",
                "\n",
                "Lisätään edelliseen esimerkkiin toiminto, joka ohittaa diagonaalilla olevat rivit, eli hyppää iteraation yli, jos i ja j ovat yhtä suuret. Käytetään tähän ```next```-komentoa, joka ohjaa ohjelman suoraan seuraavaan iteraatioon:\n"
            ]
        },
        {
            "cell_type": "code",
            "execution_count": null,
            "metadata": {},
            "outputs": [],
            "source": [
                "# Initialize empty data frame for the pairs\n",
                "close_pairs <- data.frame()\n",
                "\n",
                "# Iterate over rows and columns\n",
                "for (i in seq(1, nrow(exons))) {\n",
                "  # Only check upper diagonal\n",
                "  for (j in seq(i, ncol(exons))) {\n",
                "    if (i == j) {\n",
                "        next\n",
                "    }\n",
                "    # Check if dissimilarity is below 4\n",
                "    if (exons[i, j] < 4) {\n",
                "      # Add the pair as a new row to close_pairs\n",
                "      new_row <- data.frame(Species_1 = rownames(exons)[i],\n",
                "                            Species_2 = colnames(exons)[j])\n",
                "      close_pairs <- rbind(close_pairs,\n",
                "                           new_row)\n",
                "    }\n",
                "  }\n",
                "}\n",
                "\n",
                "close_pairs\n"
            ]
        },
        {
            "cell_type": "markdown",
            "metadata": {},
            "source": [
                "Nyt pääsimme eroon kaikista turhista pareista! \n",
                "\n",
                "Jos haluaisimme kaikkien parien sijaan etsiä vain ensimmäisen parin, jonka geenien etäisyys on alle 3, voisimme käyttää komentoa ```break```, joka keskeyttää silmukan suorittamisen turhaan haluamamme parin löydyttyä.\n"
            ]
        },
        {
            "cell_type": "code",
            "execution_count": null,
            "metadata": {},
            "outputs": [],
            "source": [
                "close_pair <- c()\n",
                "\n",
                "# Iterate over rows and columns\n",
                "for (i in seq(1, nrow(exons))) {\n",
                "  # Only check upper diagonal\n",
                "  for (j in seq(i, ncol(exons))) {\n",
                "    if (i == j) {\n",
                "        next\n",
                "    }\n",
                "    # Check if dissimilarity is below 3\n",
                "    if (exons[i, j] < 3) {\n",
                "      # Assign pair to close_pair and stop search\n",
                "      close_pair <- c(Species_1 = rownames(exons)[i],\n",
                "                            Species_2 = colnames(exons)[j])\n",
                "      break\n",
                "    }\n",
                "  }\n",
                "}\n",
                "\n",
                "close_pair\n"
            ]
        },
        {
            "cell_type": "markdown",
            "metadata": {},
            "source": [
                "HUOM: Tämä ei kuitenkaan ole oikea pari: Jos exons data framea käydään läpi rivi kerrallaan, ensimmäinen pari, jonka arvo on alle 3 on Human ja Lemur, ei Mouse ja Gorilla. Mikä siis meni väärin? Kun kyse on näin pienestä aineistosta, voidaan mahdollisia ongelmia tutkia lisäämällä silmukoiden sisään ```print()```-komentoja, jotka kertovat meille silmukan etenemisestä. Lisätään siis edelliseen silmukkaan rivi, joka tulostaa iteraatiomuuttujat i ja j jokaisella iteraatiolla, sekä rivi, joka tulostaa uuden parin, kun sellainen löytyy:\n",
                "\n"
            ]
        },
        {
            "cell_type": "code",
            "execution_count": null,
            "metadata": {},
            "outputs": [],
            "source": [
                "close_pair <- c()\n",
                "\n",
                "# Iterate over rows and columns\n",
                "for (i in seq(1, nrow(exons))) {\n",
                "  # Only check upper diagonal\n",
                "  for (j in seq(i, ncol(exons))) {\n",
                "    # Monitor loop\n",
                "    print(c(i, j))\n",
                "    if (i == j) {\n",
                "        next\n",
                "    }\n",
                "    # Check if dissimilarity is below 3\n",
                "    if (exons[i, j] < 3) {\n",
                "      # Assign pair to close_pair and stop search\n",
                "      close_pair <- c(Species_1 = rownames(exons)[i],\n",
                "                            Species_2 = colnames(exons)[j])\n",
                "      print(close_pair)\n",
                "      break\n",
                "    }\n",
                "  }\n",
                "}\n",
                "\n",
                "close_pair\n"
            ]
        },
        {
            "cell_type": "markdown",
            "metadata": {},
            "source": [
                "Nyt huomataan, että iteraatio etenee rivillä yksi neljänteen sarakkeeseen asti, ja löytää parin Human-Lemur, aivan kuten pitikin. Jostain syystä ohjelma siirtyy kuitenkin sen jälkeen toiselle riville. Tämä johtuu siitä, että ```break```-komento katkaisee vain yhden for-silmukan kerrallaan. Jos haluamme katkaista myös ulomman silmukan, meidän tulee lisätä ulomman silmukan loppuun tarkastus, joka tarkastaa, onko pari jo löytynyt. Tämä voidaan testata esimerkiksi vektorin close_pairs pituuden avulla. Jos if-rakenteelle antaa pelkän luvun, luku tulkitaan arvoksi TRUE, jos se ei ole nolla.\n",
                "\n"
            ]
        },
        {
            "cell_type": "code",
            "execution_count": null,
            "metadata": {},
            "outputs": [],
            "source": [
                "close_pair <- c()\n",
                "\n",
                "# Iterate over rows and columns\n",
                "for (i in seq(1, nrow(exons))) {\n",
                "  # Only check upper diagonal\n",
                "  for (j in seq(i, ncol(exons))) {\n",
                "    if (i == j) {\n",
                "        next\n",
                "    }\n",
                "    # Check if dissimilarity is below 3\n",
                "    if (exons[i, j] < 3) {\n",
                "      # Assign pair to close_pair and stop search\n",
                "      close_pair <- c(Species_1 = rownames(exons)[i],\n",
                "                            Species_2 = colnames(exons)[j])\n",
                "      break\n",
                "    }\n",
                "  }\n",
                "  # Stop iterating if the pair has been found\n",
                "  if (length(close_pair)) {\n",
                "    break\n",
                "  }\n",
                "}\n",
                "\n",
                "close_pair\n"
            ]
        },
        {
            "cell_type": "markdown",
            "metadata": {},
            "source": [
                "Nyt koodimme toimii, kuten pitääkin!\n",
                "\n",
                "## Apply-funktiot\n",
                "\n",
                "R:ssä käytetään silmukoiden lisäksi ```apply()```-funktioperheen funktioita, joilla voi käydä läpi data frameja, matriiseja tai vektoreita ilman silmukoita. Joissain tapauksissa ```apply```-funktiot ovat myös nopeampia kuin silmukat. Tästä syystä niitä näkee käytettävän paljon, ja varsinkin kokeneemmat R-ohjelmoijat käyttävät niitä paljon. Tällä kurssilla näitä funktioita ei kuitenkaan tarvita. Tässä on annettu muutamia esimerkkejä, voit lukea lisää esimerkiksi [DataCampin tutoriaalista](https://www.datacamp.com/community/tutorials/r-tutorial-apply-family)\n"
            ]
        },
        {
            "cell_type": "code",
            "execution_count": null,
            "metadata": {},
            "outputs": [],
            "source": [
                "\n",
                "\n"
            ]
        },
        {
            "cell_type": "markdown",
            "metadata": {},
            "source": [
                "head(trees)\n",
                "\n",
                "scaler <- function(x) {\n",
                "  scaled <- (x - mean(x)) / sd(x)\n",
                "  scaled\n",
                "}\n",
                "\n",
                "scaled_trees <- apply(X = trees, MARGIN = 2, FUN = scaler)\n",
                "scaled_trees <- as.data.frame(scaled_trees)\n",
                "head(scaled_trees)\n"
            ]
        },
        {
            "cell_type": "code",
            "execution_count": null,
            "metadata": {},
            "outputs": [],
            "source": [
                "MARGIN-argumentilla määritetään, käydäänkö läpi rivit vai sarakkeet (1 = rivit, 2 = sarakkeet). HUOM: ```apply``` palauttaa aina matriisin tai vektorin. Jos tulos halutaan muuntaa takaisin data frameksi, täytyy se tehdä erikseen.\n",
                "\n",
                "Tarkistetaan tulos laskemalla sarakkeiden keskiarvot ja varianssit. Tämä voidaan tehdä ```apply```-funktiolla, tai käyttää ```sapply```-funktiota, joka käy automaattisesti data framen sarakkeet, ja ajaa saman funktion sarakkeille kuten ```apply```. ```sapply```-komennon funktion on pakko palauttaa vain yksi arvo, sillä ```sapply``` kokoaa automaattisesti tuloksensa vektoriin.\n"
            ]
        },
        {
            "cell_type": "markdown",
            "metadata": {},
            "source": [
                "apply(scaled_trees, 2, mean)\n",
                "sapply(scaled_trees, var)\n"
            ]
        },
        {
            "cell_type": "code",
            "execution_count": null,
            "metadata": {},
            "outputs": [],
            "source": [
                "Huomaa, että sarakkeiden keskiarvot eivät ole tismalleen 0. Tämä johtuu R:n rajallisesta numeerisesta tarkkuudesta. Käytännössä itseisarvoltaan tätä luokkaa olevat arvot ovat nollia.\n",
                "\n",
                "## Vinkkejä tehtäviin\n",
                "\n",
                "Tämän viikon tehtävissä pitää muokata funktioita, jotka ovat erillisissä tiedostoissa. Jotta tehtävän palautus onnistuu, funktio pitää muokata tässä tiedostossa. Funktio kannattaa kuitenkin kopioida talteen toiseen tiedostoon, sillä tehtävän palauttaminen pyyhkii tiedoston.\n"
            ]
        }
    ],
    "metadata": {
        "anaconda-cloud": "",
        "kernelspec": {
            "display_name": "R",
            "langauge": "R",
            "name": "ir"
        },
        "language_info": {
            "codemirror_mode": "r",
            "file_extension": ".r",
            "mimetype": "text/x-r-source",
            "name": "R",
            "pygments_lexer": "r",
            "version": "3.4.1"
        }
    },
    "nbformat": 4,
    "nbformat_minor": 1
}

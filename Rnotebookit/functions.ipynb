{
    "cells": [
        {
            "cell_type": "markdown",
            "metadata": {},
            "source": [
                "# Funktiot\n",
                "\n",
                "Tällä viikolla opitaan kirjoittamaan itse funktioita ja pureudutaan sitä kautta syvemmälle R-funktioiden toimintaan. \n",
                "\n",
                "\n",
                "## Funktion käsite\n",
                "\n",
                "Funktio on kokonaisuus järjesteltyä ja uudelleenkäytettävää koodia, jonka tarkoitus on suorittaa yksi tarkkaan määrätty tehtävä. Funktioilla on syöte (input) ja tulos (output). Funktion tehtävä on palauttaa (return) syötteen perusteella haluttu tulos. Alla olevassa kuvassa näkyvät funktion neljä osaa: nimi, syöte, toiminnallisuus ja tulos.\n",
                "\n",
                "![](functions_files/funktio_käsite.png)\n",
                "\n",
                "Otetaan esimerkiksi kaksi funktiota: \"Keskiarvo\" ottaa syötteenä halutun määrän lukuja, ja laskee niiden keskiarvon. \"Vastinjuoste\" ottaa syötteenä DNA-juosteen ja palauttaa sen vastinjuosteen.\n",
                "\n",
                "![](functions_files/funktio_esimerkit.png)\n",
                "\n",
                "Funktioilla voi olla myös erityyppisiä syötteitä, voitaisiin esimerkiksi määritellä funktio, jolle annettaisiin syötteenä henkilön ikä, pituus, paino, sekä elintapatietoja, ja funktio laskisi näiden pohjalta eliniänodotteen. \n",
                "\n",
                "## R-funktiot\n",
                "\n",
                "### Funktioiden määrittely\n",
                "\n",
                "Tähän mennessä olemme jo käyttäneet monia R-funktioita eikä meidän ole tarvinnut miettiä niiden toimintaa kovin syvällisesti. Virhetilanteet on kuitenkin paljon helpompi ratkaista, kun ymmärtää miten funktiot toimivat R:ssä.\n",
                "\n",
                "R-funktioita luodaan ```function```-komennolla. Funktion rakennus näyttää tältä:\n",
                "\n",
                "![](functions_files/funktio_koodi_väri.png)\n",
                "\n",
                "R-funktiot siis koostuvat samoista osista kuin yllä esitellyt funktiot.\n",
                "- Funktion nimi on muuttuja, johon funktio tallennetaan.\n",
                "- Funktion syöte koostuu argumenteista\n",
                "- Funktion toiminnallisuus on R-koodia\n",
                "- Funktion tulos palautetaan komennolla ```return()```\n",
                "\n",
                "Tehdään esimerkiksi funktio BMI:n laskemiseen:\n"
            ]
        },
        {
            "cell_type": "code",
            "execution_count": null,
            "metadata": {},
            "outputs": [],
            "source": [
                "# Define function name and arguments\n",
                "bmi <- function(height, mass) {\n",
                "  # Compute BMI\n",
                "  value <- mass / height^2\n",
                "  rounded <- round(value, digits = 1)\n",
                "  # Return computed value\n",
                "  return(rounded)\n",
                "}\n"
            ]
        },
        {
            "cell_type": "markdown",
            "metadata": {},
            "source": [
                "Ensimmäisellä riville määritellään muuttuja, johon funktio tallennetaan, eli funktion nimi. Lisäksi määritetään funktion argumentit, tässä tapauksessa pituus ja paino. Itse funktion koodi tulee hakasulkeiden sisään seuraaville riveille. Ensimmäinen koodirivi laskee BMI:n ja toinen pyöristää tuloksen yhden desimaalin tarkkuuteen. Kolmas rivi palauttaa sen.\n",
                "\n",
                "Voimme nyt kutsua (call) funktiotamme aivan kuin muitakin R-funktioita:\n"
            ]
        },
        {
            "cell_type": "code",
            "execution_count": null,
            "metadata": {},
            "outputs": [],
            "source": [
                "# Example\n",
                "my_bmi <- bmi(height = 1.79, mass = 74)\n",
                "\n",
                "my_bmi\n"
            ]
        },
        {
            "cell_type": "markdown",
            "metadata": {},
            "source": [
                "HUOM: palautettava arvo on ainoa asia, joka välittyy funktion ulkopuolelle. Koska funktiomme palauttaa pyöristetyn arvon, alkuperäiseen arvoon ei pääse funktion ulkopuolelta käsiksi.\n",
                "\n"
            ]
        },
        {
            "cell_type": "code",
            "execution_count": null,
            "metadata": {},
            "outputs": [],
            "source": [
                "my_bmi <- bmi(height = 1.90, mass = 95)\n",
                "# Throws error\n",
                "value\n"
            ]
        },
        {
            "cell_type": "markdown",
            "metadata": {},
            "source": [
                "Funktioiden sisällä luodut muuttujat ovat siis olemassa vain sen sisällä ja lakkaavat olemasta, kun funktion suoritus lakkaa.\n",
                "\n",
                "\n",
                "### Argumentit ja funktion kutsuminen\n",
                "\n",
                "R:ssä funktioiden argumentteja voi määritellä eri tavoilla, mutta yleisimmässä tapauksessa funktioilla on tietty määrä nimettyjä argumentteja. Edellisen esimerkin bmi-funktiolla on kaksi argumenttia, pituus ja paino. R-kunktioita voi kutsua monella eri tavalla, ja tutustutaan tähän lisää tämän yksinkertaisen funktion avulla.\n",
                "\n",
                "Yksi tapa on kutsua funktiota antamalla argumenttien arvot ilman niiden nimiä. HUOM: jos argumentteja ei nimeä, niiden tulee olla oikeassa järjestyksessä. Alla olevan esimerkin toisessa kohdassa argumentit menevät sekaisin.\n"
            ]
        },
        {
            "cell_type": "code",
            "execution_count": null,
            "metadata": {},
            "outputs": [],
            "source": [
                "# Call without argument names\n",
                "bmi(1.65, 62)\n",
                "# Arguments in wrong order -> weird results / error\n",
                "bmi(62, 1.65)\n"
            ]
        },
        {
            "cell_type": "markdown",
            "metadata": {},
            "source": [
                "Argumentit voi myös nimetä, kuten edellisissä esimerkeissä tehtiin. Tällöin järjestyksellä ei ole väliä, koska funktiolle on selvää, mitä argumenttia tarkoitetaan.\n",
                "\n"
            ]
        },
        {
            "cell_type": "code",
            "execution_count": null,
            "metadata": {},
            "outputs": [],
            "source": [
                "bmi(height = 1.65, mass = 62)\n",
                "bmi(mass = 62, height = 1.65)\n"
            ]
        },
        {
            "cell_type": "markdown",
            "metadata": {},
            "source": [
                "On myös mahdollista nimetä vain osa argumenteista. Tällöin nimeämättömät argumentit asetetaan argumenteiksi \"tyhjiin kohtiin\" vasemmalta oikealle. \n",
                "\n"
            ]
        },
        {
            "cell_type": "code",
            "execution_count": null,
            "metadata": {},
            "outputs": [],
            "source": [
                "bmi(1.65, mass = 62)\n",
                "bmi(62, height = 1.65)\n"
            ]
        },
        {
            "cell_type": "markdown",
            "metadata": {},
            "source": [
                "Jos funktioille yritetään antaa argumentteja, joita ei ole määritelty, seuraa virhe:\n",
                "\n"
            ]
        },
        {
            "cell_type": "code",
            "execution_count": null,
            "metadata": {},
            "outputs": [],
            "source": [
                "# Causes error\n",
                "bmi(height = 1.65, weight = 62)\n"
            ]
        },
        {
            "cell_type": "markdown",
            "metadata": {},
            "source": [
                "Samoin jos jokin argumentti puuttuu, seuraa virhe:\n",
                "\n"
            ]
        },
        {
            "cell_type": "code",
            "execution_count": null,
            "metadata": {},
            "outputs": [],
            "source": [
                "# Causes error\n",
                "bmi(height = 1.65)\n"
            ]
        },
        {
            "cell_type": "markdown",
            "metadata": {},
            "source": [
                "HUOM: vaikka argumentit saa antaa haluamassaan järjestyksessä ja nimettynä tai nimeämättömänä, kannattaa kuitenkin olla johdonmukainen. Yleisohjeena argumentit kannattaa aina nimetä ja pyrkiä antamaan siinä järjestyksessä, kuin ne on funktiossa määritelty. Näin koodin lukeminen ja ylläpito on paljon helpompaa. Poikkeuksena sääntöön ovat funktiot, joiden toiminta on yksinkertaista, tai joiden ensimmäiset argumentit ovat niin tunnettuja, että niitä ei ole syytä nimetä.\n",
                "\n",
                "Otetaan esimerkiksi funktio ```seq()```. Jos avaat funktion help-sivun komennolla ```?seq```, näet, että ensimmäiset argumentit ovat nimeltään ```from``` ja ```to```. Koska ```seq``` on hyvin yleinen ja tunnettu, ja ```from``` ja ```to``` on pakko määrittää, sitä kutsutaan yleensä niin, että ```from``` ja ```to``` jätetään nimeämättä. Muut argumentit, kuten ```by``` ja ```length.out``` yleensä nimetään, koska niitä ei aina käytetä, eikä voida olettaa koodin lukijan muistavan, mitä argumenttia tarkoitetaan, vaikka ```seq``` toimisi ilman nimiä, jos annettaisiin peräkkäin ```from```, ```to``` ja ```by```. Vastaavasti ```plot```-komennon tapauksessa ei aina kirjoiteta nimiä ```x``` ja ```y```-argumenteille, mutta väriä yms. ohjaavat argumentit nimetään.\n",
                "\n",
                "#### Oletusarvot (default values)\n",
                "\n",
                "Monilla R-funktioilla on paljon argumentteja, joista kaikkia ei kuitenkaan tarvitse määrittää erikseen, vaan niillä on oletusarvoja (default values). Esimerkiksi ```seq()``` tekee oletuksena vektorin, jossa on kaikki kokonaisluvut ```from```-argumentista ```to```-argumenttiin. Tätä käyttäytymistä voi kuitenkin muuttaa ```by``` ja ```length.out```-argumentteja säätämällä.\n",
                "\n",
                "Tehdään nyt omaan bmi-funktioomme uusi argumentti ```height_multiplier```, joka on oletuksena 1. Jos kuitenkin halutaan antaa pituus senttimetreissä metrien sijaan, voidaan asettaa korkeuden kertoimeksi 0.01.\n"
            ]
        },
        {
            "cell_type": "code",
            "execution_count": null,
            "metadata": {},
            "outputs": [],
            "source": [
                "bmi <- function(height, mass, height_multiplier = 1) {\n",
                "  # Compute BMI\n",
                "  value <- mass / (height * height_multiplier)^2\n",
                "  rounded <- round(value, digits = 1)\n",
                "  # Return computed value\n",
                "  return(rounded)\n",
                "}\n",
                "bmi(height = 1.65, mass = 62)\n",
                "bmi(height = 165, mass = 62, height_multiplier = 0.01)\n"
            ]
        },
        {
            "cell_type": "markdown",
            "metadata": {},
            "source": [
                "Argumentin oletusarvo merkataan siis funktion määrittelyssä ```=```-merkillä, kuten funktion argumenttien anto yleensä. Tämä on hyvä tietää omia funktioita tehdessä, mutta myös valmiiden funktioiden käytössä: jos argumentille ei ole funktion help-sivulla annettu vakioarvoa, se on pakko antaa, tai muuten seuraa virhe, kuten aikaisemmin kävi. Monilla valmiiden funktioiden argumenteilla on oletusarvona tyhjä arvo eli ```NULL```. Tämä tarkoittaa usein, että argumentin voi jättää tyhjäksi, mutta oletusarvon valinta on niin monimutkainen prosessi, että sitä ei voi kirjoittaa funktion määrittelyssä yhdelle riville. Usein tämä tarkoittaa sitä, että oletusarvo riippuu muista argumenteista. HUOM: ```NULL``` on eri asia kuin ```NA```, ja käyttäytyy eri tavoin. Aiheesta lisää [täällä](https://www.r-bloggers.com/r-na-vs-null/).\n",
                "\n",
                "### Funktio ilman argumentteja\n",
                "\n",
                "Joillain funktioilla ei ole ollenkaan argumentteja. Esimerkiksi R:n sisäiset funktiot ```Sys.time()``` ja ```Sys.Date()``` palauttavat tämänhetkisen ajan ja päivän, eivätkä tarvitse argumentteja.\n"
            ]
        },
        {
            "cell_type": "code",
            "execution_count": null,
            "metadata": {},
            "outputs": [],
            "source": [
                "Sys.time()\n",
                "\n"
            ]
        },
        {
            "cell_type": "markdown",
            "metadata": {},
            "source": [
                "Itse tehdyt funktiot voivat myös toimia ilman argumentteja. Niitä käytetään usein R-istunnon tilan, koodia ajavan tietokoneen ominaisuuksien tai ajan selvittämiseen. Tämä melko hyödytön esimerkkifunktio palauttaa tämän dokumentin kirjoittajan nimen:\n",
                "\n"
            ]
        },
        {
            "cell_type": "code",
            "execution_count": null,
            "metadata": {},
            "outputs": [],
            "source": [
                "author <- function() {\n",
                "  return(\"Anton Klåvus\")\n",
                "}\n",
                "author()\n"
            ]
        },
        {
            "cell_type": "markdown",
            "metadata": {},
            "source": [
                "## Arvojen palautus\n",
                "\n",
                "Tutkitaan arvojen palautusta R-funktiosta hieman enemmän.\n",
                "\n",
                "### Usean arvon palautus\n",
                "\n",
                "R-funktiot palauttavat aina yhden arvon. Palautukseen käytetään funktiota ```return()```, kuten aiemmin nähtiin. R-funktio voi palauttaa vain yhden arvon, toisin kuin joissain muissa ohjelmointikielissä. Jos funktiosta halutaan ulos useampi arvo, ne on pakattava esim. listaan. Jos siis ```bmi```-funktiosta haluttaisiin palauttaa sekä pyöristetty, että alkuperäinen BMI:n arvo, voidaan ne palauttaa listassa:\n"
            ]
        },
        {
            "cell_type": "code",
            "execution_count": null,
            "metadata": {},
            "outputs": [],
            "source": [
                "bmi_list <- function(height, mass, height_multiplier = 1) {\n",
                "  # Compute BMI\n",
                "  value <- mass / (height * height_multiplier)^2\n",
                "  rounded <- round(value, digits = 1)\n",
                "  # Return computed value\n",
                "  values <- list(original = value,\n",
                "                 rounded = rounded)\n",
                "  return(values)\n",
                "}\n",
                "result <- bmi_list(1.65, 62)\n",
                "result\n",
                "result$rounded\n"
            ]
        },
        {
            "cell_type": "markdown",
            "metadata": {},
            "source": [
                "### Palautus ilman return-käskyä\n",
                "\n",
                "R on siitä erikoinen ohjelmointikieli, että R-funktiot voivat palauttaa arvoja myös ilman eksplisiittistä ```return```-käskyä. Jos R-funktiossa ei ole ```return```-käskyä, ja viimeinen rivi on vain muuttuja, tai sijoitus muuttujaan, tämän muuttujan arvo palautetaan automaattisesti. ```bmi```-funktion voisi siis kirjoittaa myös näin:\n"
            ]
        },
        {
            "cell_type": "code",
            "execution_count": null,
            "metadata": {},
            "outputs": [],
            "source": [
                "bmi <- function(height, mass, height_multiplier = 1) {\n",
                "  # Compute BMI\n",
                "  value <- mass / (height * height_multiplier)^2\n",
                "  rounded <- round(value, digits = 1)\n",
                "  # Return computed value\n",
                "  rounded\n",
                "}\n",
                "bmi(1.65, 62)\n"
            ]
        },
        {
            "cell_type": "markdown",
            "metadata": {},
            "source": [
                "Alussa on kuitenkin hyvä käyttää ```return```-käskyä, niin pysyy paremmin perässä siitä, mitä koodi tekee, eikä sen kirjoittaminen ole kokeneellekaan ohjelmoijalle huono tapa.\n",
                "\n",
                "\n",
                "### Funktio ilman tulosta\n",
                "\n",
                "Moni funktio ei palauta yhtään mitään. Yleisiä esimerkkejä ovat ```cat()``` ja ```plot()```, jotka tulostavat ja piirtävät asioita, mutta eivät palauta mitään. Jos näiden funktion paluuarvon yrittää sijoittaa muuttujaan, on tuloksena ```NULL```, eli tyhjä arvo. \n"
            ]
        },
        {
            "cell_type": "code",
            "execution_count": null,
            "metadata": {},
            "outputs": [],
            "source": [
                "cat_return <- cat(\"What does cat return?\\n\")\n",
                "cat_return\n"
            ]
        },
        {
            "cell_type": "markdown",
            "metadata": {},
            "source": [
                "Itse tehty funktio palauttaa ```NULL```, jos viimeinen komento palauttaa ```NULL```:\n",
                "\n"
            ]
        },
        {
            "cell_type": "code",
            "execution_count": null,
            "metadata": {},
            "outputs": [],
            "source": [
                "# Function for plotting blue squares\n",
                "blue_squares <- function(x, y) {\n",
                "  plot(x, y, pch = 3, col = \"blue\")\n",
                "}\n",
                "value <- blue_squares(1:5, c(2, 5, 3, 3, 8))\n",
                "value\n"
            ]
        },
        {
            "cell_type": "markdown",
            "metadata": {},
            "source": [
                "\n",
                "\n"
            ]
        }
    ],
    "metadata": {
        "anaconda-cloud": "",
        "kernelspec": {
            "display_name": "R",
            "langauge": "R",
            "name": "ir"
        },
        "language_info": {
            "codemirror_mode": "r",
            "file_extension": ".r",
            "mimetype": "text/x-r-source",
            "name": "R",
            "pygments_lexer": "r",
            "version": "3.4.1"
        }
    },
    "nbformat": 4,
    "nbformat_minor": 1
}

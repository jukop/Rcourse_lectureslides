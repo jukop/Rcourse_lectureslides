{
 "cells": [
  {
   "cell_type": "markdown",
   "metadata": {},
   "source": [
    "  \n",
    "# Lineaariset mallit ja tilastolliset jakaumat\n",
    "  \n",
    "Tässä osiossa tutustutaan lineaarisiin malleihin ja yleisimpien jakaumien käyttöön R:ssä. Jos konseptit eivät ole tilastotieteen kursseilta tuttuja, ei hätää: tämä dokumentti sisältää lyhyet selitykset tärkeimmistä konsepteista, ja loput selitetään varsinaisilla tilastotieteen kursseilla.\n",
    "\n",
    "Ennen kuin puhutaan tilastollisten testien tekemisestä R:llä, on hyvä tutustua factor-luokan vektoreihin\n",
    "\n",
    "## Factor-vektorit\n",
    "\n",
    "R:ssä on aiemmin nähtyjen numeric, character ja logical-vektorien lisäksi muitakin vektoriluokkia, tärkeimpänä näistä factor. Factor-vektoreihin tallennetaan kategorisia muuttujia, kuten tutkimuksessa määrättyjä ryhmiä, aikapisteitä tms. Luodaan esimerkiksi factor-vektori, jossa on kuvitteellisen lääketutkimuksen osallistujien ryhmätiedot:\n",
    "  \n"
   ]
  },
  {
   "cell_type": "code",
   "execution_count": null,
   "metadata": {},
   "outputs": [],
   "source": [
    "groups <- as.factor(c(\"drug1\", \"drug2\", \"control\", \"drug1\", \"control\",\n",
    "                      \"drug2\", \"drug2\", \"control\", \"control\", \"drug1\"))\n",
    "groups\n"
   ]
  },
  {
   "cell_type": "markdown",
   "metadata": {},
   "source": [
    "Factoreita voi luoda muista vektoreista funktioilla ```factor``` tai ```as.factor()```. ```as.factor``` muuntaa vektorin automaattisesti ja nopeasti factoriksi, ja säilyttää myös jo valmiiksi factor-luokan vektorien tasojen järjestyksen (tästä lisää pian).\n",
    "\n",
    "Kuten tulosteesta nähdään, factor-vektorin tulostus tulostaa factorin alkiot (HUOM: ei hipsuja) sekä factorin tasot. Factorit ovat pinnan alla kokonaisluku- eli integer-vektoreita, joissa on päällä \"kerros\", joka määrittää factorin tasot. Edellä nähty vektori groups näyttää siis tältä:\n",
    "\n",
    "<img src = \"statistics_files/figure-markdown_github/factor.png\" width=\"500px\" />\n",
    "\n",
    "Factorien tasoille annetaan siis lukuarvot ykkösestä eteenpäin. Oletuksena ensimmäinen taso eli taso 1 on aakkosissa ensimmäinen arvo, tai pienin lukuarvo jos factori tehdään numeerisista muuttujista. Lukuarvot saa näkyville muuntamalla factorin numeeriseksi vektoriksi:\n"
   ]
  },
  {
   "cell_type": "code",
   "execution_count": null,
   "metadata": {},
   "outputs": [],
   "source": [
    "as.numeric(groups)\n",
    "\n"
   ]
  },
  {
   "cell_type": "markdown",
   "metadata": {},
   "source": [
    "Tasojen järjestyksen voi myös päättää itse. Tämä on tärkeää, sillä kuten pian nähdään, factorin ensimmäinen taso on monissa tilastollisissa testeissä ns. referenssitaso, johon muita tasoja verrataan. Usein esiintyvä tapaus ovat tutkimukset, joissa on ryhmät nimeltä case ja control. Koska case on aakkosissa ennen controllia, R käyttää oletuksen case-ryhmää referenssitasona, ja testaa miten control-ryhmä poikkeaa tästä tasosta, vaikka haluaisimme päinvastaisen tuloksen. Tasot voi itse määrittää näin:\n",
    "\n"
   ]
  },
  {
   "cell_type": "code",
   "execution_count": null,
   "metadata": {},
   "outputs": [],
   "source": [
    "study_groups <- factor(c(\"case\", \"control\", \"control\", \"case\", \"case\"),\n",
    "                       levels = c(\"control\", \"case\"))\n",
    "study_groups\n"
   ]
  },
  {
   "cell_type": "markdown",
   "metadata": {},
   "source": [
    "Nyt tasot ovat oikeassa järjestyksessä!\n",
    "\n",
    "Kuten aiemmin mainittiin, factoreita voi tehdä myös numeerisista vektoreista. HUOM: muista, että ```as.numeric()``` palauttaa factorin kokonaislukuarvot, ei alkuperäisiä lukuja. Alkuperäiset luvut saa käyttämällä ensin ```as.character```-funktiota, joka muuttaa factorin tasot merkkijonovektoriksi.\n"
   ]
  },
  {
   "cell_type": "code",
   "execution_count": null,
   "metadata": {},
   "outputs": [],
   "source": [
    "time_points <- as.factor(c(0, 0, 1, 1, 5, 5, 1, 0, 5))\n",
    "time_points\n",
    "# Probably not what you expect\n",
    "as.numeric(time_points)\n",
    "# First to character, then to numeric\n",
    "as.numeric(as.character(time_points))\n"
   ]
  },
  {
   "cell_type": "markdown",
   "metadata": {},
   "source": [
    "## Lineaariset mallit\n",
    "\n",
    "Lineaarisessa mallissa eli lineaarisessa regressiossa tavoite on arvioida vastemuuttujan lineaarista riippuvuutta selittävistä muuttujista. Käytetään esimerkkinä R:n sisäistä datasettiä cars, jossa on kirjattu 50 auton nopeus ja pysähtymismatka. Tavoitteena on tutkia, miten auton pysähtymismatka riippuu auton nopeudesta.\n",
    "\n",
    "### Teoria\n",
    "\n",
    "Yksinkertaisin mahdollinen lineaarinen regressiomalli näyttää tältä:\n",
    "\n",
    "$$y = \\beta_0 + \\beta_1 x_1 + \\epsilon$$\n",
    "\n",
    "- $y$ on vastemuuttuja, tässä auton pysähtymismatka\n",
    "- $\\beta_0$ on ns. vakiotermi eli käyrän y-akselin leikkauskohta\n",
    "- $\\beta_1$ on selittävän muuttujan eli auton nopeuden regressiokerroin\n",
    "- $x_1$ on selittävä muuttuja eli auton nopeus\n",
    "- $\\epsilon$ on residuaalitermi (virhetermi)\n",
    "\n",
    "Mallissa siis oletetaan, että auton pysähtymismatka nopeudella 0 km/h on $\\beta_0$ ja kasvaa $\\beta_1$ verran, kun nopeus kasvaa 1 km/h. Lisäksi mukana on virhetermi, joka selittää satunnaisen vaihtelun tuloksissa lineaarisen käyrän ympärillä.\n",
    "\n",
    "Jos malliin halutaan lisätä selittäviä muuttujia, kuten auton jarrujen kunto ($x_2$) tai sääolosuhteet ($x_3$), malli näyttää tältä:\n",
    "\n",
    "$$y = \\beta_0 + \\beta_1 x_1 + \\beta_2 x_2 + \\beta_3 x_3 + ... + \\epsilon$$\n",
    "\n",
    "Eli jokaiselle selittävälle muuttujalle annetaan oma regressiokerroin.\n",
    "\n",
    "### Esimerkki\n",
    "\n",
    "Muutetaan ensin cars-datasetin muuttujat meille tuttuihin yksikköihin, ja piirretään hajontakuvio havainnoista:\n"
   ]
  },
  {
   "cell_type": "code",
   "execution_count": null,
   "metadata": {},
   "outputs": [],
   "source": [
    "# Change units\n",
    "cars$speed <- cars$speed * 1.60934\n",
    "cars$dist <- cars$dist * 0.0254\n",
    "# Scatter plot\n",
    "plot(cars$speed, cars$dist,\n",
    "     xlab = \"Speed (km/h)\", ylab = \"Distance (m)\",\n",
    "     main = \"Stopping distances of cars\") \n"
   ]
  },
  {
   "cell_type": "markdown",
   "metadata": {},
   "source": [
    "Autojen välillä on eroja, mutta kuten voi odottaa, suuremmilla nopeuksilla auton pysähtymismatka kasvaa. Käytetään seuraavaksi R:n funktiota ```lm()```, jolla voidaan sovittaa dataan lineaarinen malli:\n",
    "\n"
   ]
  },
  {
   "cell_type": "code",
   "execution_count": null,
   "metadata": {},
   "outputs": [],
   "source": [
    "model <- lm(dist ~ speed, data = cars)\n",
    "model$coefficients\n"
   ]
  },
  {
   "cell_type": "markdown",
   "metadata": {},
   "source": [
    "\n"
   ]
  },
  {
   "cell_type": "markdown",
   "metadata": {},
   "source": [
    "Lineaarisesta mallista saadaan irti paljon tietoa, tärkeimpinä mallin kertoimet (coefficients). Yllä olevista kertoimista voidaan päätellä, että kun auton nopeus nousee 1 km/h, autojen pysähtymismatka kasvaa noin 0.06 m ja odotettu kasvukäyrä leikkaa y-akselin -0.4 m kohdalla. Voimme piirtää tämän käyrän kuvaajaan ```abline()```-funktion avulla, antamalla sille mallin kertoimet:\n",
    "\n"
   ]
  },
  {
   "cell_type": "code",
   "execution_count": null,
   "metadata": {},
   "outputs": [],
   "source": [
    "plot(cars$speed, cars$dist,\n",
    "     xlab = \"Speed (km/h)\", ylab = \"Distance (m)\",\n",
    "     main = \"Stopping distances of cars\")\n",
    "abline(a = model$coefficients[1], b = model$coefficients[2])\n"
   ]
  },
  {
   "cell_type": "markdown",
   "metadata": {},
   "source": [
    "### Tarkempia tietoja mallista\n",
    "\n",
    "Muihin mallin tietoihin pääsee käsiksi ```summary```-funktion avulla, joko tulostamalla tuloksen konsoliin, tai sijoittamalla sen muuttujaan, josta voi etsiä mallin tietoja.\n"
   ]
  },
  {
   "cell_type": "code",
   "execution_count": null,
   "metadata": {},
   "outputs": [],
   "source": [
    "# Print summary information\n",
    "summary(model)\n",
    "# Save summary and access specific information\n",
    "s <- summary(model)\n",
    "s$r.squared\n"
   ]
  },
  {
   "cell_type": "markdown",
   "metadata": {},
   "source": [
    "### Ennustaminen\n",
    "\n",
    "Kun lineaarinen malli on luotu, sen perusteella voidaan myös ennustaa arvoja uusille havainnoille. Tämä tapahtuu ```predict()```-komennolla, jolle annetaan malli, sekä uuden datan sisältävä data frame. Ennustetaan edellisen mallin perusteella pysähtymismatka autolle neljällä uudella nopeudella ja lisätään ne edelliseen kuvaajaan punaisilla rukseilla:\n"
   ]
  },
  {
   "cell_type": "code",
   "execution_count": null,
   "metadata": {},
   "outputs": [],
   "source": [
    "# Create data frame with new speed values\n",
    "new_data <- data.frame(speed = c(25, 15, 38))\n",
    "# Create dist column by predicting from linear model\n",
    "new_data$dist <- predict(model, newdata = new_data)\n",
    "\n",
    "# Add points to previous plot\n",
    "plot(cars$speed, cars$dist,\n",
    "     xlab = \"Speed (km/h)\", ylab = \"Distance (m)\",\n",
    "     main = \"Stopping distances of cars\")\n",
    "abline(a = model$coefficients[1], b = model$coefficients[2])\n",
    "points(new_data$speed, new_data$dist, pch = 4, col = \"red\")\n"
   ]
  },
  {
   "cell_type": "markdown",
   "metadata": {},
   "source": [
    "Kuten huomataan, ennustetut arvot ovat täsmälleen käyrän päällä.\n",
    "\n",
    "## Korrelaatio\n",
    "\n",
    "Korrelaatio on lineaarisen regression ohella tapa mitata kahden muuttujan välistä riippuvuutta. Korrelaatiolle on monia erilaisia mittareita, joista yleisimmät ovat Pearsonin korrelaatiokerroin, joka mittaa kahden muuttujan välistä lineaarista riippuvuutta ja Spearmanin järjestyskorrelaatiokerroin, joka mittaa kahden muuttujan välistä riippuvuutta ilman lineaarisuusoletusta. HUOM: korrelaatio ei ota kantaa siihen, kuinka vahva riippuvuus on (käyrän jyrkkyys), vaan pelkästään siihen, kuinka systemaattinen riippuvuus on. Kummatkin korrelaatiokertoimet saavat arvoja väliltä [-1, 1], jossa -1 on täydellinen negatiivinen korrelaatio (toisen muuttujan kasvaessa toinen pienenee) ja 1 on täydellinen positiivinen korrelaatio.\n",
    "\n",
    "Korrelaation kahden vektorin välillä voi R:ssä laskea komennolla ```cor()```. Otetaan esimerkiksi R:n sisäinen datasetti Indometh, jossa on mitattu indometasiinin farmakokinetiikkaa, ja selvitetään ajan ja indometasiinin konsentraation väliselle riippuvuudelle Pearsonin ja Spearmanin korrelaatiokertoimet. Piirretään sen jälkeen hajontakuvio mittaustuloksista ja lisätään kuvaajaan alaotsikoksi korrelaatiokertoimet. Tutustumme samalla funktioon ```round()```, jolla voi pyöristää lukuja halutulle desimaalitarkkuudelle.\n"
   ]
  },
  {
   "cell_type": "code",
   "execution_count": null,
   "metadata": {},
   "outputs": [],
   "source": [
    "# Pearson correlation\n",
    "pearson <- cor(Indometh$time, Indometh$conc, method = \"pearson\")\n",
    "# Spearman correlation\n",
    "spearman <- cor(Indometh$time, Indometh$conc, method = \"spearman\")\n",
    "# Scatter plot\n",
    "plot(Indometh$time, Indometh$conc,\n",
    "     xlab = \"Time\", ylab = \"Concetration\",\n",
    "     main = \"Pharmacokinetics of indometacin\")\n",
    "\n",
    "# Paste concatenates strings\n",
    "subtitle <- paste(\"Pearson correlation:\", round(pearson, digits = 2),\n",
    "                  \"Spearman correlation:\", round(spearman, digits = 2))\n",
    "# Add subtitle to plot\n",
    "mtext(subtitle)\n"
   ]
  },
  {
   "cell_type": "markdown",
   "metadata": {},
   "source": [
    "Tässä esimerkissä nähdään hyvin Pearsonin - ja Spearmanin korrelaatiokertoimien ero. Koska Indometasiinin konsentraatio laskee eksponentiaalisesti, ei lineaarisesti, Pearsonin korrelaatiokerroin on \"vain\" -0.7, kun taas Spearmanin korrelaatiokerroin -0.97 vastaa lähes täydellistä negatiivista korrelaatiota.\n",
    "\n",
    "\n",
    "## Tilastolliset jakaumat R:ssä\n",
    "\n",
    "Monille yleisimmistä tilastollisista jakaumista on valmiita funktiota R:ssä. Funktiota on neljää eri tyyppiä, jotka merkataan funktion nimen ensimmäisellä kirjaimella.\n",
    "\n",
    "- d: Tiheysfunktio: mikä on tiheysfunktion arvo pisteessä x?\n",
    "- p: Kertymäfunktio: millä todennäköisyydellä jakaumasta poimittu arvo on pienempi/suurempi kuin q?\n",
    "- q: Käänteinen kertymäfunktio: mille arvolle kertymäfunktio palauttaa todennäköisyyden p?\n",
    "- r: satunnaislukugeneraattori: poimi satunnaisia havaintoja jakaumasta\n",
    "\n",
    "Alla on kuvaajat ensimmäisestä kolmesta funktiosta:\n"
   ]
  },
  {
   "cell_type": "code",
   "execution_count": null,
   "metadata": {},
   "outputs": [],
   "source": [
    "x <- seq(-2.5, 2.5, by = 0.01)\n",
    "p <- seq(0, 1, by = 0.01)\n",
    "par(mfrow = c(1,3))\n",
    "plot(x, dnorm(x), type = \"l\", main = \"d: Tiheysfunktio\")\n",
    "plot(x, pnorm(x), type = \"l\", main = \"p: Kertymäfunktio\")\n",
    "plot(p, qnorm(p), type =\"l\", main = \"q: Käänteinen kertymäfunktio\")\n"
   ]
  },
  {
   "cell_type": "markdown",
   "metadata": {},
   "source": [
    "### Esimerkki: normaalijakauma\n",
    "\n",
    "Otetaan muutama käytännön esimerkki. Oletetaan, että suomalaisten miesten suolan saanti on normaalijakautunut odotusarvolla 10 grammaa päivässä ja keskihajonta on 4 grammaa päivässä (odotusarvo on totta, keskihajonta allekirjoittaneen hihasta). Piirretään ensin kuva jakaumasta välillä [0, 20] grammaa päivässä. Jakauman muoto saadaan funktiolla ```dnorm()```. Eli yllä olevan ohjeen mukaan d-alkuinen funktio antaa tiheysfunktion, ja norm-pääte viittaa normaalijakaumaan. Normaalijakauman funktiolle tulee kertoa jakauman odotusarvo (mean) ja keskihajonta (sd = standard deviation).\n"
   ]
  },
  {
   "cell_type": "code",
   "execution_count": null,
   "metadata": {},
   "outputs": [],
   "source": [
    "# Sequential vector  of salt consumption\n",
    "salt <- seq(0, 20, by = 0.1)\n",
    "# Density function\n",
    "density <- dnorm(salt, mean = 10, sd = 4)\n",
    "# Line plot\n",
    "plot(salt, density, type = \"l\",\n",
    "     xlab = \"Suolan saanti\", ylab = \"Tiheysfunktio\",\n",
    "     main = \"Suomalaisten miesten suolan saanti\")\n"
   ]
  },
  {
   "cell_type": "markdown",
   "metadata": {},
   "source": [
    "Aikuisten saantisuositus on enintään 5 grammaa suolaa päivässä. Kuinka moni suomalainen mies syö tämän jakauman mukaan sopivasti suolaa? Vastaus saadaan kertymäfunktiosta (P(X < 5)) ```pnorm()``` funktion avulla.\n",
    "\n"
   ]
  },
  {
   "cell_type": "code",
   "execution_count": null,
   "metadata": {},
   "outputs": [],
   "source": [
    "pnorm(5, mean = 10, sd = 4)\n",
    "\n"
   ]
  },
  {
   "cell_type": "markdown",
   "metadata": {},
   "source": [
    "Tämän jakauman mukaan vain noin 11% suomalaisista miehistä syö suolaa sopivasti!\n",
    "\n",
    "Suomalaisten naiset syövät keskimäärin 7 grammaa suolaa päivässä. Kuinka moni mies syö tätä enemmän suolaa? ```pnorm()``` antaa oletuksena arvon P(X < 7). Nyt halutaan kuitenkin tietää P(X > 7), joka saadaan asettamalla ```lower.tail = FALSE```:\n"
   ]
  },
  {
   "cell_type": "code",
   "execution_count": null,
   "metadata": {},
   "outputs": [],
   "source": [
    "pnorm(7, mean = 10, sd = 4, lower.tail = FALSE)\n",
    "\n"
   ]
  },
  {
   "cell_type": "markdown",
   "metadata": {},
   "source": [
    "Noin 77% miehistä syö suolaa keskimääräistä naista enemmän.\n",
    "\n",
    "Entä jos halutaan tietää, kuinka paljon suolaa eniten syövä 10% saa? Tähän voidaan vastata funktiolla ```qnorm()```, joka on käänteinen versio funktiosta  ```pnorm()```. Samoin kuin ```pnorm()```, ```qnorm```-funktion oletus on, että todennäköisyydet lasketaan jakauman alapäästä alkaen. Vastaus tähän kysymykseen selviää siis näillä kahdella tavalla:\n"
   ]
  },
  {
   "cell_type": "code",
   "execution_count": null,
   "metadata": {},
   "outputs": [],
   "source": [
    "qnorm(0.1, mean = 10, sd = 4, lower.tail = FALSE)\n",
    "# OR\n",
    "qnorm(0.9, mean = 10, sd = 4)\n"
   ]
  },
  {
   "cell_type": "markdown",
   "metadata": {},
   "source": [
    "Eli tämän jakauman mukaan eniten suolaa saava 10% miehistä syö yli kolminkertaisen määrän suolaa suositukseen verrattuna.\n",
    "\n",
    "\n",
    "### Muita jakaumia\n",
    "\n",
    "Vastaavat funktiot löytyvät myös muille jakaumille, kuten:\n",
    "\n",
    "- Chi-toiseen: chisq\n",
    "- Eksponentiaalinen: exp\n",
    "- Studentin t: t\n",
    "- Tasajakauma: unif\n",
    "\n",
    "ja niin edelleen.\n"
   ]
  }
 ],
 "metadata": {
  "anaconda-cloud": "",
  "kernelspec": {
   "display_name": "R",
   "language": "R",
   "name": "ir"
  },
  "language_info": {
   "codemirror_mode": "r",
   "file_extension": ".r",
   "mimetype": "text/x-r-source",
   "name": "R",
   "pygments_lexer": "r",
   "version": "4.0.2"
  }
 },
 "nbformat": 4,
 "nbformat_minor": 1
}

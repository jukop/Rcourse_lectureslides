{
    "cells": [
        {
            "cell_type": "markdown",
            "metadata": {},
            "source": [
                "# R-paketit\n",
                "\n",
                "Käytännön R-ohjelmointi nojaa tällä kurssilla esiteltyjen rakenteiden lisäksi hyvin pitkälti erilaisten pakettien käyttöön. Paketit ovat kooodikokoelmia, jotka sisältävät uusia funktioita, luokkia ja dataa eli ne laajentavat R:ää. \n",
                "\n",
                "## Pakettien asennus\n",
                "\n",
                "Useimmat R-paketit ovat CRANissa (Comprehensive R Archive Network). Ne voidaan asentaa komennolla ```install.packages()```, tai RStudion asennusikkunan kautta, jota käytimmekin jo aikaisemmin ja joka käytännössä kutsuu ```install.packages()```-funktiota . Käyttämällä funkiot asuoraan voi myös asentaa useamman paketin kerralla. Alla oleva komento asentaa dplyr- ja tidyr-paketit:\n"
            ]
        },
        {
            "cell_type": "code",
            "execution_count": null,
            "metadata": {},
            "outputs": [],
            "source": [
                "install.packages(c(\"dplyr\", \"tidyr\"))\n",
                "\n"
            ]
        },
        {
            "cell_type": "markdown",
            "metadata": {},
            "source": [
                "## Pakettien käyttö\n",
                "\n",
                "Jotta R-paketin sisältämät komennot saa käyttöön, paketti pitää ladata ja liittää R-työtilaan. Tämä tapahtuu komennolla ```library()```:\n"
            ]
        },
        {
            "cell_type": "code",
            "execution_count": null,
            "metadata": {},
            "outputs": [],
            "source": [
                "library(tidyr)\n",
                "\n"
            ]
        },
        {
            "cell_type": "markdown",
            "metadata": {},
            "source": [
                "Nyt kun tidyr on ladattu, voimme käyttää siinä olevia komentoja, joilla voi hallita data frame-muodossa olevaa dataa erittäin kätevästi. Otetaan esimerkiksi data tiedostosta drug_data.csv\n",
                "\n"
            ]
        },
        {
            "cell_type": "code",
            "execution_count": null,
            "metadata": {},
            "outputs": [],
            "source": [
                "drug_data <- read.csv(\"drug_data.csv\")\n",
                "drug_data\n"
            ]
        },
        {
            "cell_type": "markdown",
            "metadata": {},
            "source": [
                "Tässä datassa on kuviteltu tutkimus, jossa tutkitaan antibiootin tehoa, eli sitä, kuinka hyvin lääke laskee tulehdukesn markkereita: CRP ja Prokalsitoniini (PCT). Kumpikin markkeri on mitattu alkutilanteessa (0) sekä yhden (1) ja kahden (2) päivän hoidon jälkeen. Kuvitellaan nyt, että tämä data haluttaisiin syöttää lineaariseen malliin, jolla ennustettaisiin CRP:n tasoa aikapisteen perusteella. Miten muotoilisit tällaisen mallin R:llä?\n",
                "\n",
                "Aivan, mallin pitäisi näyttää tältä: ```lm(CRP ~ Time, data = drug_data)```. Mutta datassa on tällä hetkellä CRP-arvoja kolmessa eri sarakkeessa, joita R luulee kolmeksi erilliseksi muuttujaksi! Dataa pitää siis muokata niin, että kaikki CRP- ja PCT-arvot ovat omissa sarakkeissaan, ja aikapistetiedot omassa sarakkeessaan. Tätä varten voisimme luoda uuden data framen, ja kehitellä jonkinlaisen silmukan, joka käy läpi alkuperäistä dataa ja poimii siitä arvoja oikeaan muotoon. Tämä on kuitenkin työlästä.\n",
                "\n",
                "Onneksi asia on helppo korjata tidyr-paketin komennoilla. HUOM: tämän koodin toimintaa ei käsitellä tässä sen enempää, eikä sitä tarvitse ymmärtää. Tarkoitus on demonstroida sitä, kuinka monimutkaiselta tuntuva asia saadaan hoidettua kahdella koodirivillä, kun käytössä on oikea paketti.\n"
            ]
        },
        {
            "cell_type": "code",
            "execution_count": null,
            "metadata": {},
            "outputs": [],
            "source": [
                "drug_data %>%\n",
                "  pivot_longer(-Subject, names_to = c(\"Var\", \"Time\"), names_pattern = \"(.*)_(.)\", values_to = \"Value\") %>%\n",
                "  pivot_wider(names_from = \"Var\", values_from = \"Value\")\n"
            ]
        },
        {
            "cell_type": "markdown",
            "metadata": {},
            "source": [
                "Jos koko pakettia ei halua ladata ja liittää, voi paketeista käyttää yksittäisiä komentoja käyttämällä muotoa ```paketti::komento()```. Esimerkiksi tällä kurssilla käytetty komento ```Rkurssi::Rkurssi()``` ajaa paketista Rkurssi samannimisen funktion Rkurssi. Kahden kaksoispisteen notaatiota voi käyttää myös silloin, jos kahdessa paketissa on samanniminen funktio ja haluaa varmistaa, että käyttää varmasti oikeaa funktiota.\n",
                "\n",
                "\n",
                "## Bioconductor\n",
                "\n",
                "Bioinformaatikko törmää aikaisemmin tai myöhemmin Bioconductoriin. Bioconductorissa on paljon erilaisia työkaluja bionformaatikoille, mm. R-paketteja. Bioconductorin paketit asennetaan eri komennolla kuin muut R-paketit, mutta asennusohjeet on onneksi aina annettu paketin yhteydessä. Esimerkiksi [ggbio-paketin](http://bioconductor.org/packages/release/bioc/html/ggbio.html) asennus tehdään näin:\n"
            ]
        },
        {
            "cell_type": "code",
            "execution_count": null,
            "metadata": {},
            "outputs": [],
            "source": [
                "if (!requireNamespace(\"BiocManager\", quietly = TRUE))\n",
                "    install.packages(\"BiocManager\")\n",
                "\n",
                "BiocManager::install(\"ggbio\")\n"
            ]
        },
        {
            "cell_type": "markdown",
            "metadata": {},
            "source": [
                "Ensimmäinen osa koodista tarkistaa, onko BiocManager-paketti asennettu, ja jos ei, asentaa sen. BiocManager-pakettia käytetään Bioconductorin pakettien asennukseen. Toinen osa asentaa BiocManagerin avulla ggbio-paketin.\n",
                "\n",
                "ggbio-paketilla voi visualisoida genomiikka-dataa. Ladataan ensin ggbio-paketti. Käydään sitten läpi muutama esimerkki ggbio-paketin toiminnallisuudesta (kopioitu paketin esimerkeistä).\n"
            ]
        },
        {
            "cell_type": "code",
            "execution_count": null,
            "metadata": {},
            "outputs": [],
            "source": [
                "library(ggbio)\n",
                "\n"
            ]
        },
        {
            "cell_type": "markdown",
            "metadata": {},
            "source": [
                "Ideogrammi toisesta ihmisen kromosomista saadaan yhdellä koodirivillä:\n",
                "\n"
            ]
        },
        {
            "cell_type": "code",
            "execution_count": null,
            "metadata": {},
            "outputs": [],
            "source": [
                "p_ideo <- Ideogram(genome = \"hg19\", subchr = \"chr2\")\n",
                "p_ideo\n"
            ]
        },
        {
            "cell_type": "markdown",
            "metadata": {},
            "source": [
                "![](packages_files/figure-markdown_github/chromosome.jpg)\n",
                "\n",
                "Alla on monimutkaisempi esimerkki, jossa visualisoidaan somaattisia mutaatioita ihmisen genomissa (tarkemmat tiedot löytyvät ggbio-paketin dokumentaatiosta). Tässä esimerkissä koodia on jo aikalailla, mutta tämä esimerkki löytyy suoraan paketin dokumentaatiosta, jolloin samankaltaisten kuvaajien piirtäminen omalla datalla on melko suoraviivaista.\n"
            ]
        },
        {
            "cell_type": "code",
            "execution_count": null,
            "metadata": {},
            "outputs": [],
            "source": [
                "data(\"CRC\", package  = \"biovizBase\")\n",
                "gr.crc1 <- crc.gr[crc.gr$individual == \"CRC-1\"]\n",
                "\n",
                "p <- ggbio() +\n",
                "  circle(gr.crc1, geom = \"link\", linked.to = \"to.gr\", aes(color = rearrangements)) +\n",
                "  circle(mut.gr, geom = \"rect\", color = \"steelblue\") +\n",
                "  circle(hg19sub, geom = \"ideo\", fill = \"gray70\") +\n",
                "  circle(hg19sub, geom = \"scale\", size = 2) +\n",
                "  circle(hg19sub, geom = \"text\", aes(label = seqnames), vjust = 0, size = 3)\n",
                "p\n"
            ]
        },
        {
            "cell_type": "markdown",
            "metadata": {},
            "source": [
                "![](packages_files/figure-markdown_github/circles.png)\n",
                "\n",
                "## Pakettien käyttöön tarvittavat taidot\n",
                "\n",
                "Kuten aiemmin mainittiin, R-pakettien käyttö aloitetaan usein lukemalla paketin tekijöiden esimerkkikoodia, ja muokkaamalla sitä omiin tarpeisiin sopivaksi. Tätä varten pitää ymmärtää tällä kurssilla opittuja asioita:\n",
                "\n",
                "- Funktion käsite: mikä funktio on ja miten se toimii\n",
                "- Argumentit: miten funktiolle annetaan argumentteja? Tämä on erittäin tärkeää, sillä muuten on vaikea ymmärtää, mitä osaa esimerkkikoodista tulisi muokata, jotta se toimii omalla datalla.\n",
                "- Dokumentaation lukeminen: ?funktion_nimi antaa syvempää tietoa funktiosta ja sen toiminnasta, ja dokumentaation ymmärtäminen on usein pakollista, jos haluaa käyttää funktiota omiin tarkoituksiinsa.\n"
            ]
        }
    ],
    "metadata": {
        "anaconda-cloud": "",
        "kernelspec": {
            "display_name": "R",
            "langauge": "R",
            "name": "ir"
        },
        "language_info": {
            "codemirror_mode": "r",
            "file_extension": ".r",
            "mimetype": "text/x-r-source",
            "name": "R",
            "pygments_lexer": "r",
            "version": "3.4.1"
        }
    },
    "nbformat": 4,
    "nbformat_minor": 1
}

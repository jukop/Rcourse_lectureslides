{
 "cells": [
  {
   "cell_type": "markdown",
   "metadata": {},
   "source": [
    "# R-ohjelmoinnin perusteet\n",
    "\n",
    "## Mikä R on ja mitä sillä tehdään?\n",
    "\n",
    "Ohjelmoinnin tavoitteena on kirjoittaa eli koodata ohjelma, joka suorittaa jonkun halutun tehtävän. Ohjelma koostuu useista komennoista, joista jokainen tekee jotain hyvin yksinkertaista.\n",
    "\n",
    "R on tehty ensisijaisesti tilastotiedettä ja data-analyysiä varten.  R:llä kirjoitetaan yleensä lyhyitä ohjelmia, joita kutsutaan skripteiksi. R:llä ei siis ole tarkoitus kehittää esimerkiksi pelejä, tai muita ohjelmia joissa on graafinen käyttöliittymä, kuten vaikkapa Photoshop. R ei myöskään ole web-ohjelmointiin tarkoitettu kieli (vaikka oikeilla paketeilla R:lläkin pystyy tekemään web-sovelluksia). \n",
    "\n",
    "R on korkean tason ohjelmointikieli. Tämä tarkoittaa sitä, että R:ssä on paljon valmiita komentoja, joiden \"alta\" löytyy paljon lisää koodia, johon R-ohjelmoijan ei kuitenkaan tarvitse itse koskea. Esimerkiksi tilastollisen t-testin testin laskeminen vaatii useita matemaattisia välivaiheita, mutta R-ohjelmoija voi suorittaa testin yhdellä komennolla (```t.test```) joka antaa kaikki tarvittavat tiedot testistä.\n",
    "\n",
    "R:n käyttöä ja ohjelmointia muutenkin oppii parhaiten tekemällä. Tässä dokumentaatiossa on tekstin väliin upotettu R-koodia harmaissa laatikoissa, kuten alla olevassa esimerkissä. Kahdella ruudulla eli ```##```-merkinnällä alkavat rivit eivät ole koodia vaan koodin ajamisen aiheuttamia tulosteita (output). Otetaan ensimmäiseksi esimerkiksi klassinen [\"Hello, world!\"](https://en.wikipedia.org/wiki/%22Hello,_World!%22_program)-komento:\n"
   ]
  },
  {
   "cell_type": "code",
   "execution_count": null,
   "metadata": {},
   "outputs": [],
   "source": [
    "print(\"Hello, world!\")"
   ]
  },
  {
   "cell_type": "code",
   "execution_count": null,
   "metadata": {},
   "outputs": [],
   "source": [
    "80 * (1 - 0.35)\n"
   ]
  },
  {
   "cell_type": "markdown",
   "metadata": {},
   "source": [
    "Yksittäisten komentojen ajamisesta ei kuitenkaan ole yleensä hyötyä, ellei tuloksia voi tallentaa johonkin. Ohjelmointikielissä tietoja tallennetaan muuttujiin, joita käsitellään seuraavaksi. "
   ]
  },
  {
   "cell_type": "markdown",
   "metadata": {},
   "source": [
    "## Muuttujat (Variables)\n",
    "\n",
    "**Muuttujat** (variables) ovat yksi tärkeimmistä ohjelmointikielien rakenteista. Muuttujien tehtävä on säilyttää tietoa ja tuloksia edellisistä laskutoimituksista. Alla on yksinkertainen esimerkki muuttujien käytöstä R:ssä"
   ]
  },
  {
   "cell_type": "code",
   "execution_count": null,
   "metadata": {},
   "outputs": [],
   "source": [
    "x <- 3\n",
    "y <- 5\n",
    "z <- x + y\n",
    "\n",
    "z\n"
   ]
  },
  {
   "cell_type": "markdown",
   "metadata": {},
   "source": [
    "Edellisessä esimerkissä **sijoitetaan (assign)** eli tallennetaan muuttujaan x arvo 3 ja muuttujaan y arvo 4. Sen jälkeen muuttujien x ja y summa sijoitetaan muuttujaan z, jonka jälkeen tulostetaan muuttujan z arvo.\n",
    " ```<-``` on R:n **sijoitusoperaattori** (Myös yhtä kuin-merkki ```=``` toimii melkein aina, mutta ```<-``` on suositellumpi).\n",
    "Mutta miten muuttujan z arvo tulostui konsoliin, vaikka koodissa ei käytetty funktiota ```print```? R:n erikoisominaisuus moneen muuhun ohjelmointikieleen verrattuna on se, että print-käskyä ei tarvitse aina kirjoittaa, vaan pelkästään muuttujan (tai laskutoimituksen) kirjoittaminen tulostaa arvon konsoliin. Alla olevassa koodissa kaikki rivit tulostavat saman tuloksen:\n"
   ]
  },
  {
   "cell_type": "code",
   "execution_count": null,
   "metadata": {},
   "outputs": [],
   "source": [
    "z\n",
    "print(z)\n",
    "\n",
    "x + y\n",
    "print(x + y)\n",
    "\n",
    "3 + 5\n",
    "print(3 + 5)\n"
   ]
  },
  {
   "cell_type": "markdown",
   "metadata": {},
   "source": [
    "Muuttujiin voi sijoittaa muutakin kuin yksittäisiä lukuja, kuten merkkijonoja (strings), vektoreita, tai paljon monimutkaisempiakin rakenteita.\n",
    "\n"
   ]
  },
  {
   "cell_type": "code",
   "execution_count": null,
   "metadata": {},
   "outputs": [],
   "source": [
    "x <- \"Hello world\"\n",
    "x\n"
   ]
  },
  {
   "cell_type": "markdown",
   "metadata": {},
   "source": [
    "## Kommentit\n",
    "\n",
    "Myöhemmin vastaan tulevassa koodissa käytetään kommentteja. Kommentit ovat koodin oheen kirjoitettua tekstiä, joka ei ole ohjelmointikieltä, ja joka ohitetaan koodia ajettaessa. Kommenttien tarkoitus on kuvailla koodin toimintaa. Oman koodin kommentointia on hyvä harjoitella alusta lähtien, vaikka ensimmäisten tehtävien koodi onkin hyvin yksinkertaista. hyvä nyrkkisääntö on muistaa, että koodia kirjoitetaan ihmisille, ei koneelle. R:ssä kommentit merkataan ```#```-symbolilla. Edellinen esimerkki kommentoituna voisi näyttää jotakuinkin tältä:\n"
   ]
  },
  {
   "cell_type": "code",
   "execution_count": null,
   "metadata": {},
   "outputs": [],
   "source": [
    "# Assign arbitrary numbers to two variables\n",
    "x <- 3\n",
    "y <- 5\n",
    "# Sum of two variables\n",
    "z <- x + y\n",
    "# Print the results\n",
    "z\n"
   ]
  },
  {
   "cell_type": "markdown",
   "metadata": {},
   "source": [
    "## Vektorit (Vectors)\n",
    "\n",
    "Nyt kun muuttujat ovat tuttuja, voimme siirtyä käsittelemään vektoreita. R:n vektorit ovat yksinkertaisia järjestettyjä tietorakenteita, jotka koostuvat alkioista (elements), esimerkiksi desimaaliluvuista. Alla oleva esimerkki sijoittaa muuttujaan x vektorin, joka sisältää 5 lukua.\n"
   ]
  },
  {
   "cell_type": "code",
   "execution_count": null,
   "metadata": {},
   "outputs": [],
   "source": [
    "x <- c(1, 2, 7.4, 15, 0.2)\n",
    "x\n"
   ]
  },
  {
   "cell_type": "markdown",
   "metadata": {},
   "source": [
    "Yksinkertaisin tapa tehdä vektori R:ssä on käyttää ```c()```-funktiota, joka luo vektorin, jossa on sille annetut arvot annetussa järjestyksessä. Monet R-kielen komennot ja funktiot luovat vektoreita, alla muutama esimerkki:\n",
    "\n"
   ]
  },
  {
   "cell_type": "code",
   "execution_count": null,
   "metadata": {},
   "outputs": [],
   "source": [
    "# Regular sequences\n",
    "seq(1, 10)\n",
    "seq(0, 1, by = 0.2)\n",
    "seq_len(6)\n",
    "3:9\n",
    "\n",
    "# Repeat values\n",
    "rep(1, 5)\n",
    "rep(c(1, 2), 3) # Repeat vector c(1,2) 3 times\n",
    "rep(c(1, 2, 3), 3) # Repeat all values in vector c(1, 2, 3) 3 times\n"
   ]
  },
  {
   "cell_type": "markdown",
   "metadata": {},
   "source": [
    "### Vektorilaskentaa\n",
    "\n",
    "Vektoreilla laskeminen on usein hyvin intuitiivista (lisää vaaranpaikoista myöhemmin). Kun vektoriin kohdistetaan laskutoimintoja, sama operaatio tehdään kaikille vektorin alkioille (engl. vectorization).\n"
   ]
  },
  {
   "cell_type": "code",
   "execution_count": null,
   "metadata": {},
   "outputs": [],
   "source": [
    "x <- c(1, 2, 3, 6, 10)\n",
    "x * 2\n",
    "x / 2 + 1\n"
   ]
  },
  {
   "cell_type": "markdown",
   "metadata": {},
   "source": [
    "Entä jos vektoreita lisää toisiinsa, tai kertoo keskenään? Jos vektorit ovat samanpituisia, operaatio toteutetaan alkio kerrallaan. Jos vektorit ovat eripituisia, R yrittää kierrättää (recycle) lyhyempää vektoria niin, että siitä tulee yhtä pitkä kuin pidempi vektori. Tämän jälkeen operaatio suoritetaan alkio kerrallaan (itse asiassa näin tapahtui myös aiemmissa esimerkeissä, kun vektori kerrottiin yksittäisellä luvulla. R:ssä yksittäiset luvut ovat vektoreita, joiden pituus on 1). Jos kierrätys ei onnistu, eli pidemmän vektorin pituus ei ole jaollinen lyhyemmän pituudella, R antaa virheilmoituksen. \n",
    "\n"
   ]
  },
  {
   "cell_type": "code",
   "execution_count": null,
   "metadata": {},
   "outputs": [],
   "source": [
    "x <- c(1, 2, 3, 6, 10, 2)\n",
    "y <- c(1, 1, 1, 3, 3, 3) # or rep(c(1, 3), each = 3)\n",
    "z <- c(2, 4)\n",
    "\n",
    "x + y # Element-wise sum\n",
    "x * y # Element-wise multiplication\n",
    "\n",
    "x + z\n"
   ]
  },
  {
   "cell_type": "markdown",
   "metadata": {},
   "source": [
    "R:ssä on myös paljon funktioita, joilla voi laskea vektoreista erilaisia tunnuslukuja, kuten keskiarvon, mediaanin, keskihajonnan jne. \n",
    "\n"
   ]
  },
  {
   "cell_type": "code",
   "execution_count": null,
   "metadata": {},
   "outputs": [],
   "source": [
    "x <- c(1, 2, 3, 6, 10, 2)\n",
    "# Sample mean (average)\n",
    "mean(x)\n",
    "# Standard deviation\n",
    "sd(x)\n",
    "# Sum\n",
    "sum(x)\n"
   ]
  },
  {
   "cell_type": "markdown",
   "metadata": {},
   "source": [
    "### Ei-numeeriset vektorit\n",
    "\n",
    "#### Merkkijonovektorit\n",
    "\n",
    "Vektorien ei ole pakko sisältää lukuja. Vektorit voivat sisältää esimerkiksi merkkijonoja, kuten alussa nähty \"Hello, world!\". Merkkijonotyypin nimi R:ssä on ```character```.\n"
   ]
  },
  {
   "cell_type": "code",
   "execution_count": null,
   "metadata": {},
   "outputs": [],
   "source": [
    "x <- c(\"Hello, world!\", \"R is the best\", \"I\", \"like\", \"programming\", \"!\")\n",
    "x\n"
   ]
  },
  {
   "cell_type": "markdown",
   "metadata": {},
   "source": [
    "Merkkijonovektoreiden muokkausta varten on omia funktiota, tärkeimpinä ```paste``` ja ```paste0```, jotka yhdistävät merkkijonoja toisiinsa. Myös numeerisia vektoreita voi antaa näille funktioille, ja ne muutetaan merkkijonoiksi.\n",
    "\n"
   ]
  },
  {
   "cell_type": "code",
   "execution_count": null,
   "metadata": {},
   "outputs": [],
   "source": [
    "first_names <- c(\"Diana\", \"Peter\", \"Bruce\")\n",
    "last_names <- c(\"Prince\", \"Parker\", \"Wayne\")\n",
    "paste(first_names, last_names)\n",
    "\n",
    "students <- paste0(\"Student_\", 1:5)\n"
   ]
  },
  {
   "cell_type": "markdown",
   "metadata": {},
   "source": [
    "#### Loogiset vektorit\n",
    "\n",
    "Kolmas yleinen vektorityyppi on looginen vektori, joka sisältää arvoja ```TRUE``` eli tosi tai ```FALSE``` eli epätosi. Loogisia vektoreita käytetään yleensä joko merkitsemään binäärisiä muuttuja (esimerkiksi paastosiko koehenkilö ennen näytteenottoa) tai vektorien ja matriisien indeksoinnissa (tästä lisää pian). Tällöin loogisia vektoreita syntyy erilaisten loogisten operaattorien avulla:\n"
   ]
  },
  {
   "cell_type": "code",
   "execution_count": null,
   "metadata": {},
   "outputs": [],
   "source": [
    "x <- c(1, 2, 3, 6, 10, 2)\n",
    "\n",
    "x > 3 # Is the element of x greater than 3?\n",
    "x >= 3 # Greater or equal to three=\n",
    "x == 6 # Equal to 6?\n",
    "x != 2 # Not equal to 2?\n"
   ]
  },
  {
   "cell_type": "markdown",
   "metadata": {},
   "source": [
    "#### Loogiset vektorit ja matematiikka\n",
    "\n",
    "Jos loogiselle vektorille tekee operaation, joka odottaa numeerista vektoria, R muuttaa automaattisesti arvot ```TRUE``` ykkösiksi ja arvot ```FALSE``` nolliksi. Tämä on erityisen hyödyllistä käytettäessä funktiota ```sum```. Tällä tavalla saadaan helposti tietää esim. kuinka moni vektorin alkio täyttää tietyn ehdon:\n"
   ]
  },
  {
   "cell_type": "code",
   "execution_count": null,
   "metadata": {},
   "outputs": [],
   "source": [
    "x <- c(1, 3, 5, 2, 19)\n",
    "above_3 <- x > 3\n",
    "\n",
    "# Logical vector automatically converted to numeric\n",
    "x + 1\n",
    "\n",
    "# how many elements of x are smaller than 10?\n",
    "sum(x < 10)\n"
   ]
  },
  {
   "cell_type": "markdown",
   "metadata": {},
   "source": [
    "### Vektorien indeksointi ja leikkely\n",
    "\n",
    "Usein vektorista halutaan poimia vain tietyt arvot, esimerkiksi vain ensimmäiset 5 arvoa, tai vain arvot, jotka täyttävät tietyt ehdot. R:ssä vektorin indeksointiin käytetään hakasulkeita ```[]```. Yleisimmät indeksointitavat ovat antaa hakasulkeiden sisään vektori kokonaislukuja, jotka vastaavat järjestyslukuja, jotka vektorista halutaan poimia (HUOM kokeneemmat koodarit, R:ssä indeksointi alkaa ykkösestä, ei nollasta!). Toinen vaihtoehto on käyttää loogista vektoria, jolloin vektorista poimitaan ne alkiot, joiden kohdalla loogisen vektorin arvo on TRUE. Tämä on yksinkertaisempaa kuin miltä se kuulostaa:\n"
   ]
  },
  {
   "cell_type": "code",
   "execution_count": null,
   "metadata": {},
   "outputs": [],
   "source": [
    "x <- c(1, 2, 3, 6, 10, 2)\n",
    "\n",
    "# Picking exact elements\n",
    "x[2:3] # Second and third values\n",
    "x[c(4, 5, 1)] # Note that the order does not have to be increasing\n",
    "\n",
    "# Using logical vector as condition\n",
    "x[x > 3]\n",
    "\n",
    "# The condition can be based on another vector\n",
    "characters <- c(\"Yoda\", \"C-3PO\", \"Rey\", \"R2-D2\", \"Anakin\", \"Baby Yoda\")\n",
    "heights <- c(66, 175, 170, 109, 183, 40.5)\n",
    "# Only characters shorter than 120 cm\n",
    "characters[heights < 120]\n"
   ]
  },
  {
   "cell_type": "markdown",
   "metadata": {},
   "source": [
    "### Puuttuvat arvot\n",
    "\n",
    "Monessa tutkimusprojektissa törmätään syystä tai toisesta jossain vaiheessa puuttuviin arvoihin. Hyvä esimerkki ovat seurantatutkimukset, jossa usein seurannan lopussa on jäljellä vähemmän koehenkilöitä kuin alussa. \n",
    "\n",
    "Puuttuvia arvoja merkataan R:ssä merkinnällä ```NA``` (not available). Puuttuvat arvot noudattavat yksinkertaista logiikkaa: mikä tahansa operaatio ```NA```:lle antaa tulokseksi ```NA```. Funktiot, jotka operoivat koko vektoria, kuten ```sum``` tai ```mean``` voidaan erikseen asettaa poistamaan puuttuvat arvot ennen summan, keskiarvon tms. laskemista.\n"
   ]
  },
  {
   "cell_type": "code",
   "execution_count": null,
   "metadata": {},
   "outputs": [],
   "source": [
    "# Just returns NA\n",
    "NA == NA\n",
    "# Returns a logical value as expected\n",
    "is.na(NA)\n",
    "is.na(1)"
   ]
  },
  {
   "cell_type": "markdown",
   "metadata": {},
   "source": [
    "HUOM! Funktio ```is.na``` tarkistaa, onko jokin arvo puuttuva. Perinteinen yhtäsuuruuden testaaminen ei siis toimi\n",
    "\n"
   ]
  },
  {
   "cell_type": "code",
   "execution_count": null,
   "metadata": {},
   "outputs": [],
   "source": [
    "missing <- c(1, 2, NA, 4, NA, 6)\n",
    "is.na(missing)"
   ]
  },
  {
   "cell_type": "code",
   "execution_count": null,
   "metadata": {},
   "outputs": [],
   "source": [
    "full <- seq(1, 6)\n",
    "full"
   ]
  },
  {
   "cell_type": "code",
   "execution_count": null,
   "metadata": {},
   "outputs": [],
   "source": [
    "# Addition with NA returns NA\n",
    "missing + full\n",
    "# Sum of vector with NAs returns NA\n",
    "sum(missing)\n",
    "# Removing NAs before summation\n",
    "sum(missing, na.rm = TRUE)"
   ]
  }
 ],
 "metadata": {
  "anaconda-cloud": "",
  "kernelspec": {
   "display_name": "R",
   "language": "R",
   "name": "ir"
  },
  "language_info": {
   "codemirror_mode": "r",
   "file_extension": ".r",
   "mimetype": "text/x-r-source",
   "name": "R",
   "pygments_lexer": "r",
   "version": "4.0.2"
  }
 },
 "nbformat": 4,
 "nbformat_minor": 1
}
